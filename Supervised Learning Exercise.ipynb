{
 "cells": [
  {
   "cell_type": "markdown",
   "metadata": {},
   "source": [
    "Latihan:   \n",
    "* https://www.kaggle.com/jessemostipak/hotel-booking-demand    \n",
    "* https://www.kaggle.com/arashnic/hr-analytics-job-change-of-data-scientists  \n",
    "* https://www.kaggle.com/blastchar/telco-customer-churn\n",
    "\n",
    "Pilih salah satu dari dataset di atas:  \n",
    "* Lakukan EDA singkat sebagai basis dari skema preprocessing kalian  \n",
    "* Tentukan metric evaluasi sesuai dengan tujuan bisnis kalian. \n",
    "* Pilih model terbaik dari model klasifikasi yang sudah kita pelajari (dt, knn, logreg, ensemble)\n",
    "* Optimasi model yang kalian pilih (hyperparameter tunning, kalau dataset imbalance, bisa pakai balancing method)\n",
    "\n",
    "Kirim link github ke Brigita.gems@gmail.com"
   ]
  },
  {
   "cell_type": "markdown",
   "metadata": {},
   "source": [
    "# Library"
   ]
  },
  {
   "cell_type": "code",
   "execution_count": 1,
   "metadata": {
    "ExecuteTime": {
     "end_time": "2021-07-29T09:16:54.248783Z",
     "start_time": "2021-07-29T09:16:51.511690Z"
    }
   },
   "outputs": [],
   "source": [
    "# basic data analysis dan visualization\n",
    "import numpy as np\n",
    "import pandas as pd\n",
    "import seaborn as sns\n",
    "import matplotlib.pyplot as plt\n",
    "plt.style.use('seaborn-pastel')\n",
    "\n",
    "# statistic\n",
    "from scipy.stats import chi2_contingency\n",
    "\n",
    "# preprocessing\n",
    "import category_encoders as ce\n",
    "from sklearn.preprocessing import OneHotEncoder\n",
    "from sklearn.impute import SimpleImputer\n",
    "from sklearn.preprocessing import RobustScaler\n",
    "\n",
    "# model classification\n",
    "from sklearn.linear_model import LogisticRegression\n",
    "from sklearn.neighbors import KNeighborsClassifier\n",
    "from sklearn.tree import DecisionTreeClassifier, plot_tree\n",
    "from sklearn.ensemble import RandomForestClassifier\n",
    "\n",
    "# model selection & hyperparameter tuning\n",
    "from sklearn.pipeline import Pipeline\n",
    "from sklearn.compose import ColumnTransformer\n",
    "from sklearn.model_selection import train_test_split\n",
    "from sklearn.model_selection import cross_val_score, StratifiedKFold\n",
    "from sklearn.model_selection import GridSearchCV\n",
    "from imblearn.over_sampling import SMOTE\n",
    "\n",
    "# metric classification\n",
    "from sklearn.metrics import recall_score, precision_score, classification_report, f1_score\n",
    "\n",
    "\n"
   ]
  },
  {
   "cell_type": "markdown",
   "metadata": {},
   "source": [
    "# Dataset\n",
    "**HR Analytics: Job Change of Data Scientists**\\\n",
    "Predict who will move to a new job "
   ]
  },
  {
   "cell_type": "code",
   "execution_count": 2,
   "metadata": {
    "ExecuteTime": {
     "end_time": "2021-07-29T09:16:54.354884Z",
     "start_time": "2021-07-29T09:16:54.254140Z"
    }
   },
   "outputs": [
    {
     "data": {
      "text/html": [
       "<div>\n",
       "<style scoped>\n",
       "    .dataframe tbody tr th:only-of-type {\n",
       "        vertical-align: middle;\n",
       "    }\n",
       "\n",
       "    .dataframe tbody tr th {\n",
       "        vertical-align: top;\n",
       "    }\n",
       "\n",
       "    .dataframe thead th {\n",
       "        text-align: right;\n",
       "    }\n",
       "</style>\n",
       "<table border=\"1\" class=\"dataframe\">\n",
       "  <thead>\n",
       "    <tr style=\"text-align: right;\">\n",
       "      <th></th>\n",
       "      <th>enrollee_id</th>\n",
       "      <th>city</th>\n",
       "      <th>city_development_index</th>\n",
       "      <th>gender</th>\n",
       "      <th>relevent_experience</th>\n",
       "      <th>enrolled_university</th>\n",
       "      <th>education_level</th>\n",
       "      <th>major_discipline</th>\n",
       "      <th>experience</th>\n",
       "      <th>company_size</th>\n",
       "      <th>company_type</th>\n",
       "      <th>last_new_job</th>\n",
       "      <th>training_hours</th>\n",
       "      <th>target</th>\n",
       "    </tr>\n",
       "  </thead>\n",
       "  <tbody>\n",
       "    <tr>\n",
       "      <th>0</th>\n",
       "      <td>8949</td>\n",
       "      <td>city_103</td>\n",
       "      <td>0.920</td>\n",
       "      <td>Male</td>\n",
       "      <td>Has relevent experience</td>\n",
       "      <td>no_enrollment</td>\n",
       "      <td>Graduate</td>\n",
       "      <td>STEM</td>\n",
       "      <td>&gt;20</td>\n",
       "      <td>NaN</td>\n",
       "      <td>NaN</td>\n",
       "      <td>1</td>\n",
       "      <td>36</td>\n",
       "      <td>1.0</td>\n",
       "    </tr>\n",
       "    <tr>\n",
       "      <th>1</th>\n",
       "      <td>29725</td>\n",
       "      <td>city_40</td>\n",
       "      <td>0.776</td>\n",
       "      <td>Male</td>\n",
       "      <td>No relevent experience</td>\n",
       "      <td>no_enrollment</td>\n",
       "      <td>Graduate</td>\n",
       "      <td>STEM</td>\n",
       "      <td>15</td>\n",
       "      <td>50-99</td>\n",
       "      <td>Pvt Ltd</td>\n",
       "      <td>&gt;4</td>\n",
       "      <td>47</td>\n",
       "      <td>0.0</td>\n",
       "    </tr>\n",
       "    <tr>\n",
       "      <th>2</th>\n",
       "      <td>11561</td>\n",
       "      <td>city_21</td>\n",
       "      <td>0.624</td>\n",
       "      <td>NaN</td>\n",
       "      <td>No relevent experience</td>\n",
       "      <td>Full time course</td>\n",
       "      <td>Graduate</td>\n",
       "      <td>STEM</td>\n",
       "      <td>5</td>\n",
       "      <td>NaN</td>\n",
       "      <td>NaN</td>\n",
       "      <td>never</td>\n",
       "      <td>83</td>\n",
       "      <td>0.0</td>\n",
       "    </tr>\n",
       "    <tr>\n",
       "      <th>3</th>\n",
       "      <td>33241</td>\n",
       "      <td>city_115</td>\n",
       "      <td>0.789</td>\n",
       "      <td>NaN</td>\n",
       "      <td>No relevent experience</td>\n",
       "      <td>NaN</td>\n",
       "      <td>Graduate</td>\n",
       "      <td>Business Degree</td>\n",
       "      <td>&lt;1</td>\n",
       "      <td>NaN</td>\n",
       "      <td>Pvt Ltd</td>\n",
       "      <td>never</td>\n",
       "      <td>52</td>\n",
       "      <td>1.0</td>\n",
       "    </tr>\n",
       "    <tr>\n",
       "      <th>4</th>\n",
       "      <td>666</td>\n",
       "      <td>city_162</td>\n",
       "      <td>0.767</td>\n",
       "      <td>Male</td>\n",
       "      <td>Has relevent experience</td>\n",
       "      <td>no_enrollment</td>\n",
       "      <td>Masters</td>\n",
       "      <td>STEM</td>\n",
       "      <td>&gt;20</td>\n",
       "      <td>50-99</td>\n",
       "      <td>Funded Startup</td>\n",
       "      <td>4</td>\n",
       "      <td>8</td>\n",
       "      <td>0.0</td>\n",
       "    </tr>\n",
       "  </tbody>\n",
       "</table>\n",
       "</div>"
      ],
      "text/plain": [
       "   enrollee_id      city  city_development_index gender  \\\n",
       "0         8949  city_103                   0.920   Male   \n",
       "1        29725   city_40                   0.776   Male   \n",
       "2        11561   city_21                   0.624    NaN   \n",
       "3        33241  city_115                   0.789    NaN   \n",
       "4          666  city_162                   0.767   Male   \n",
       "\n",
       "       relevent_experience enrolled_university education_level  \\\n",
       "0  Has relevent experience       no_enrollment        Graduate   \n",
       "1   No relevent experience       no_enrollment        Graduate   \n",
       "2   No relevent experience    Full time course        Graduate   \n",
       "3   No relevent experience                 NaN        Graduate   \n",
       "4  Has relevent experience       no_enrollment         Masters   \n",
       "\n",
       "  major_discipline experience company_size    company_type last_new_job  \\\n",
       "0             STEM        >20          NaN             NaN            1   \n",
       "1             STEM         15        50-99         Pvt Ltd           >4   \n",
       "2             STEM          5          NaN             NaN        never   \n",
       "3  Business Degree         <1          NaN         Pvt Ltd        never   \n",
       "4             STEM        >20        50-99  Funded Startup            4   \n",
       "\n",
       "   training_hours  target  \n",
       "0              36     1.0  \n",
       "1              47     0.0  \n",
       "2              83     0.0  \n",
       "3              52     1.0  \n",
       "4               8     0.0  "
      ]
     },
     "execution_count": 2,
     "metadata": {},
     "output_type": "execute_result"
    }
   ],
   "source": [
    "df = pd.read_csv('aug_train.csv')\n",
    "df.head()"
   ]
  },
  {
   "cell_type": "markdown",
   "metadata": {},
   "source": [
    "# EDA"
   ]
  },
  {
   "cell_type": "code",
   "execution_count": 3,
   "metadata": {
    "ExecuteTime": {
     "end_time": "2021-07-29T09:16:54.385674Z",
     "start_time": "2021-07-29T09:16:54.361285Z"
    }
   },
   "outputs": [
    {
     "name": "stdout",
     "output_type": "stream",
     "text": [
      "<class 'pandas.core.frame.DataFrame'>\n",
      "RangeIndex: 19158 entries, 0 to 19157\n",
      "Data columns (total 14 columns):\n",
      " #   Column                  Non-Null Count  Dtype  \n",
      "---  ------                  --------------  -----  \n",
      " 0   enrollee_id             19158 non-null  int64  \n",
      " 1   city                    19158 non-null  object \n",
      " 2   city_development_index  19158 non-null  float64\n",
      " 3   gender                  14650 non-null  object \n",
      " 4   relevent_experience     19158 non-null  object \n",
      " 5   enrolled_university     18772 non-null  object \n",
      " 6   education_level         18698 non-null  object \n",
      " 7   major_discipline        16345 non-null  object \n",
      " 8   experience              19093 non-null  object \n",
      " 9   company_size            13220 non-null  object \n",
      " 10  company_type            13018 non-null  object \n",
      " 11  last_new_job            18735 non-null  object \n",
      " 12  training_hours          19158 non-null  int64  \n",
      " 13  target                  19158 non-null  float64\n",
      "dtypes: float64(2), int64(2), object(10)\n",
      "memory usage: 2.0+ MB\n"
     ]
    }
   ],
   "source": [
    "df.info()"
   ]
  },
  {
   "cell_type": "markdown",
   "metadata": {},
   "source": [
    "> Mayoritas data dalam bentuk categorical"
   ]
  },
  {
   "cell_type": "code",
   "execution_count": 4,
   "metadata": {
    "ExecuteTime": {
     "end_time": "2021-07-29T09:16:54.427352Z",
     "start_time": "2021-07-29T09:16:54.388775Z"
    }
   },
   "outputs": [
    {
     "data": {
      "text/plain": [
       "0.0    75.065247\n",
       "1.0    24.934753\n",
       "Name: target, dtype: float64"
      ]
     },
     "execution_count": 4,
     "metadata": {},
     "output_type": "execute_result"
    }
   ],
   "source": [
    "df['target'].value_counts() / df.shape[0]*100"
   ]
  },
  {
   "cell_type": "markdown",
   "metadata": {},
   "source": [
    "> terdapat imbalance data antara kelas 0 dan 1, dataset yang dimiliki terdiri dari 75% kelas 0 dan hanya 25% kelas 1"
   ]
  },
  {
   "cell_type": "code",
   "execution_count": 5,
   "metadata": {
    "ExecuteTime": {
     "end_time": "2021-07-29T09:16:54.443688Z",
     "start_time": "2021-07-29T09:16:54.434390Z"
    }
   },
   "outputs": [
    {
     "data": {
      "text/plain": [
       "19158"
      ]
     },
     "execution_count": 5,
     "metadata": {},
     "output_type": "execute_result"
    }
   ],
   "source": [
    "df['enrollee_id'].nunique() \n"
   ]
  },
  {
   "cell_type": "markdown",
   "metadata": {},
   "source": [
    "> enrollee_id adalah data unik (id) untuk setiap pendaftar maka tidak akan kita pakai dalam pembuatan model"
   ]
  },
  {
   "cell_type": "code",
   "execution_count": 6,
   "metadata": {
    "ExecuteTime": {
     "end_time": "2021-07-29T09:16:55.367075Z",
     "start_time": "2021-07-29T09:16:54.450163Z"
    }
   },
   "outputs": [
    {
     "data": {
      "image/png": "[encoded data removed]",
      "text/plain": [
       "<Figure size 1080x288 with 4 Axes>"
      ]
     },
     "metadata": {
      "needs_background": "light"
     },
     "output_type": "display_data"
    }
   ],
   "source": [
    "fig, axs = plt.subplots(2,2,figsize=(15,4))\n",
    "\n",
    "sns.histplot(ax=axs[0,0], x=df['city_development_index'], kde=True, element=\"step\", bins=20)\n",
    "sns.histplot(ax=axs[0,1], x=df['training_hours'], kde=True, element=\"step\", bins=20, color='plum')\n",
    "\n",
    "sns.boxplot(ax=axs[1,0], x=df['city_development_index'])\n",
    "sns.boxplot(ax=axs[1,1], x=df['training_hours'], color='plum')\n",
    "\n",
    "axs[0,0].set_xlabel('city_development_index')\n",
    "axs[0,1].set_xlabel('training_hours')\n",
    "axs[1,0].set_xlabel('city_development_index')\n",
    "axs[1,1].set_xlabel('training_hours')\n",
    "plt.tight_layout()\n",
    "plt.show()"
   ]
  },
  {
   "cell_type": "code",
   "execution_count": 7,
   "metadata": {
    "ExecuteTime": {
     "end_time": "2021-07-29T09:16:55.394742Z",
     "start_time": "2021-07-29T09:16:55.373980Z"
    }
   },
   "outputs": [
    {
     "data": {
      "text/html": [
       "<div>\n",
       "<style scoped>\n",
       "    .dataframe tbody tr th:only-of-type {\n",
       "        vertical-align: middle;\n",
       "    }\n",
       "\n",
       "    .dataframe tbody tr th {\n",
       "        vertical-align: top;\n",
       "    }\n",
       "\n",
       "    .dataframe thead th {\n",
       "        text-align: right;\n",
       "    }\n",
       "</style>\n",
       "<table border=\"1\" class=\"dataframe\">\n",
       "  <thead>\n",
       "    <tr style=\"text-align: right;\">\n",
       "      <th></th>\n",
       "      <th>city_development_index</th>\n",
       "      <th>training_hours</th>\n",
       "      <th>target</th>\n",
       "    </tr>\n",
       "  </thead>\n",
       "  <tbody>\n",
       "    <tr>\n",
       "      <th>city_development_index</th>\n",
       "      <td>1.000000</td>\n",
       "      <td>0.007491</td>\n",
       "      <td>-0.279165</td>\n",
       "    </tr>\n",
       "    <tr>\n",
       "      <th>training_hours</th>\n",
       "      <td>0.007491</td>\n",
       "      <td>1.000000</td>\n",
       "      <td>-0.014126</td>\n",
       "    </tr>\n",
       "    <tr>\n",
       "      <th>target</th>\n",
       "      <td>-0.279165</td>\n",
       "      <td>-0.014126</td>\n",
       "      <td>1.000000</td>\n",
       "    </tr>\n",
       "  </tbody>\n",
       "</table>\n",
       "</div>"
      ],
      "text/plain": [
       "                        city_development_index  training_hours    target\n",
       "city_development_index                1.000000        0.007491 -0.279165\n",
       "training_hours                        0.007491        1.000000 -0.014126\n",
       "target                               -0.279165       -0.014126  1.000000"
      ]
     },
     "execution_count": 7,
     "metadata": {},
     "output_type": "execute_result"
    }
   ],
   "source": [
    "df[['city_development_index', 'training_hours', 'target']].corr(method='spearman')"
   ]
  },
  {
   "cell_type": "markdown",
   "metadata": {},
   "source": [
    "> * city_development_index & training_hours memiliki distribusi data tidak normal\n",
    "> * terdapat banyak outlier didalam data training_hours\n",
    "> * ada hubungan yang lemah diantara city_development_index, training_hours & target"
   ]
  },
  {
   "cell_type": "markdown",
   "metadata": {},
   "source": [
    "# Missing Value"
   ]
  },
  {
   "cell_type": "code",
   "execution_count": 8,
   "metadata": {
    "ExecuteTime": {
     "end_time": "2021-07-29T09:16:55.423570Z",
     "start_time": "2021-07-29T09:16:55.399885Z"
    }
   },
   "outputs": [
    {
     "data": {
      "text/plain": [
       "enrollee_id                0.000000\n",
       "city                       0.000000\n",
       "city_development_index     0.000000\n",
       "gender                    23.530640\n",
       "relevent_experience        0.000000\n",
       "enrolled_university        2.014824\n",
       "education_level            2.401086\n",
       "major_discipline          14.683161\n",
       "experience                 0.339284\n",
       "company_size              30.994885\n",
       "company_type              32.049274\n",
       "last_new_job               2.207955\n",
       "training_hours             0.000000\n",
       "target                     0.000000\n",
       "dtype: float64"
      ]
     },
     "execution_count": 8,
     "metadata": {},
     "output_type": "execute_result"
    }
   ],
   "source": [
    "df.isna().sum()/df.shape[0]*100"
   ]
  },
  {
   "cell_type": "markdown",
   "metadata": {},
   "source": [
    "> terdapat banyak missing value didalam dataset dan semuanya dalam bentuk data categorical "
   ]
  },
  {
   "cell_type": "code",
   "execution_count": 9,
   "metadata": {
    "ExecuteTime": {
     "end_time": "2021-07-29T09:16:55.562454Z",
     "start_time": "2021-07-29T09:16:55.429445Z"
    }
   },
   "outputs": [
    {
     "name": "stdout",
     "output_type": "stream",
     "text": [
      "city : ['city_103' 'city_40' 'city_21' 'city_115' 'city_162' 'city_176'\n",
      " 'city_160' 'city_46' 'city_61' 'city_114' 'city_13' 'city_159' 'city_102'\n",
      " 'city_67' 'city_100' 'city_16' 'city_71' 'city_104' 'city_64' 'city_101'\n",
      " 'city_83' 'city_105' 'city_73' 'city_75' 'city_41' 'city_11' 'city_93'\n",
      " 'city_90' 'city_36' 'city_20' 'city_57' 'city_152' 'city_19' 'city_65'\n",
      " 'city_74' 'city_173' 'city_136' 'city_98' 'city_97' 'city_50' 'city_138'\n",
      " 'city_82' 'city_157' 'city_89' 'city_150' 'city_70' 'city_175' 'city_94'\n",
      " 'city_28' 'city_59' 'city_165' 'city_145' 'city_142' 'city_26' 'city_12'\n",
      " 'city_37' 'city_43' 'city_116' 'city_23' 'city_99' 'city_149' 'city_10'\n",
      " 'city_45' 'city_80' 'city_128' 'city_158' 'city_123' 'city_7' 'city_72'\n",
      " 'city_106' 'city_143' 'city_78' 'city_109' 'city_24' 'city_134' 'city_48'\n",
      " 'city_144' 'city_91' 'city_146' 'city_133' 'city_126' 'city_118' 'city_9'\n",
      " 'city_167' 'city_27' 'city_84' 'city_54' 'city_39' 'city_79' 'city_76'\n",
      " 'city_77' 'city_81' 'city_131' 'city_44' 'city_117' 'city_155' 'city_33'\n",
      " 'city_141' 'city_127' 'city_62' 'city_53' 'city_25' 'city_2' 'city_69'\n",
      " 'city_120' 'city_111' 'city_30' 'city_1' 'city_140' 'city_179' 'city_55'\n",
      " 'city_14' 'city_42' 'city_107' 'city_18' 'city_139' 'city_180' 'city_166'\n",
      " 'city_121' 'city_129' 'city_8' 'city_31' 'city_171']\n",
      "gender : ['Male' nan 'Female' 'Other']\n",
      "relevent_experience : ['Has relevent experience' 'No relevent experience']\n",
      "enrolled_university : ['no_enrollment' 'Full time course' nan 'Part time course']\n",
      "education_level : ['Graduate' 'Masters' 'High School' nan 'Phd' 'Primary School']\n",
      "major_discipline : ['STEM' 'Business Degree' nan 'Arts' 'Humanities' 'No Major' 'Other']\n",
      "experience : ['>20' '15' '5' '<1' '11' '13' '7' '17' '2' '16' '1' '4' '10' '14' '18'\n",
      " '19' '12' '3' '6' '9' '8' '20' nan]\n",
      "company_size : [nan '50-99' '<10' '10000+' '5000-9999' '1000-4999' '10/49' '100-500'\n",
      " '500-999']\n",
      "company_type : [nan 'Pvt Ltd' 'Funded Startup' 'Early Stage Startup' 'Other'\n",
      " 'Public Sector' 'NGO']\n",
      "last_new_job : ['1' '>4' 'never' '4' '3' '2' nan]\n"
     ]
    }
   ],
   "source": [
    "for i in df.columns[df.dtypes==object]:\n",
    "    print(f\"{i} : {df[i].unique()}\")"
   ]
  },
  {
   "cell_type": "markdown",
   "metadata": {
    "ExecuteTime": {
     "end_time": "2021-07-23T07:48:08.166240Z",
     "start_time": "2021-07-23T07:48:08.160958Z"
    }
   },
   "source": [
    "> - `gender` isi dengan other di preprocessing\n",
    "> - cek apakah `enrolled_university`, `education level` dan `major_discipline` berketerkaitan karena berhubungan dengan education\n",
    "> - cek apakah `experience`, `company_size`, `company_type` dan `last_new_job` memiliki keterkaitan karena berhubungan dengan occupation"
   ]
  },
  {
   "cell_type": "markdown",
   "metadata": {
    "ExecuteTime": {
     "end_time": "2021-07-23T07:54:07.282983Z",
     "start_time": "2021-07-23T07:54:07.277148Z"
    }
   },
   "source": [
    "## Handling missing value di enrolled_university, education_level dan major_discipline"
   ]
  },
  {
   "cell_type": "markdown",
   "metadata": {},
   "source": [
    "**Hypothesis**   \n",
    "Ho : tidak ada keterkaitan diantara kedua variable\\\n",
    "Ha : ada keterkaitan diantara kedua variable"
   ]
  },
  {
   "cell_type": "code",
   "execution_count": 10,
   "metadata": {
    "ExecuteTime": {
     "end_time": "2021-07-29T09:16:56.072413Z",
     "start_time": "2021-07-29T09:16:55.566126Z"
    }
   },
   "outputs": [
    {
     "name": "stdout",
     "output_type": "stream",
     "text": [
      "Tolak Ho, enrolled_university memiliki keterkaitan dengan education_level\n",
      "Tolak Ho, enrolled_university memiliki keterkaitan dengan major_discipline\n",
      "Tolak Ho, education_level memiliki keterkaitan dengan major_discipline\n"
     ]
    }
   ],
   "source": [
    "education_data = ['enrolled_university', 'education_level', 'major_discipline']\n",
    "skip = []\n",
    "\n",
    "for i in education_data:\n",
    "    for j in education_data:\n",
    "        if i == j or j in skip:\n",
    "            continue\n",
    "        else:\n",
    "            stats, pval, dof, expected = chi2_contingency(pd.crosstab(df[i], df[j]))\n",
    "            # conclusion\n",
    "            if pval <= 0.05:\n",
    "                print(f'Tolak Ho, {i} memiliki keterkaitan dengan {j}')\n",
    "            else:\n",
    "                print(f'Terima Ho, {i} tidak memiliki keterkaitan dengan {j}')\n",
    "    skip.append(i)"
   ]
  },
  {
   "cell_type": "code",
   "execution_count": 11,
   "metadata": {
    "ExecuteTime": {
     "end_time": "2021-07-29T09:16:56.243820Z",
     "start_time": "2021-07-29T09:16:56.080605Z"
    }
   },
   "outputs": [
    {
     "name": "stdout",
     "output_type": "stream",
     "text": [
      "  education_level major_discipline\n",
      "0        Graduate             STEM\n",
      "  education_level major_discipline\n",
      "0         Masters             STEM\n",
      "  education_level major_discipline\n",
      "0     High School              NaN\n",
      "  education_level major_discipline\n",
      "0             Phd             STEM\n",
      "  education_level major_discipline\n",
      "0  Primary School              NaN\n"
     ]
    }
   ],
   "source": [
    "uniqueEducationLevel = df['education_level'].dropna().unique()\n",
    "for i in uniqueEducationLevel:\n",
    "    print(df[df['education_level'] == i][['education_level', 'major_discipline']].mode())"
   ]
  },
  {
   "cell_type": "code",
   "execution_count": 12,
   "metadata": {
    "ExecuteTime": {
     "end_time": "2021-07-29T09:16:56.339950Z",
     "start_time": "2021-07-29T09:16:56.246246Z"
    }
   },
   "outputs": [
    {
     "name": "stdout",
     "output_type": "stream",
     "text": [
      "Modus data jika tidak enroll: Full time course\n",
      "Modus data untuk level education sebelum universitas: Graduate\n",
      "Modus data untuk level education didalam universitas: Masters\n"
     ]
    }
   ],
   "source": [
    "enrollModus = df[df['enrolled_university'] != 'no_enrollment']['enrolled_university'].mode()\n",
    "lowEduModus = df[(df['education_level'] == 'Primary School') | \n",
    "   (df['education_level'] == 'High School') |\n",
    "   (df['education_level'] == 'Graduate')\n",
    "  ]['education_level'].mode()\n",
    "highEduModus = df[(df['education_level'] == 'Masters') | \n",
    "   (df['education_level'] == 'Phd')\n",
    "  ]['education_level'].mode()\n",
    "\n",
    "print('Modus data jika tidak enroll:', enrollModus.item())\n",
    "print('Modus data untuk level education sebelum universitas:', lowEduModus.item())\n",
    "print('Modus data untuk level education didalam universitas:', highEduModus.item())"
   ]
  },
  {
   "cell_type": "markdown",
   "metadata": {
    "ExecuteTime": {
     "end_time": "2021-07-23T08:18:24.339229Z",
     "start_time": "2021-07-23T08:18:24.272919Z"
    }
   },
   "source": [
    "berdasarkan analisa diatas, kita dapat menyiasati missing value sebagai berikut:\n",
    "\n",
    "**enrolled_university** \n",
    "1. isi dengan 'no_enrollment' jika education_level adalah Primary School / High School / Graduate\n",
    "2. isi dengan 'Full time course' (dari modus) jika education_level salah satu dari 'Masters', 'Phd' atau major_discipline salah satu dari 'STEM', 'Business Degree', 'Arts', 'Humanities', 'Other'\n",
    "3. isi sisanya dengan constant N \n",
    "\n",
    "**education_level**\n",
    "1. isi dengan 'Masters' (dari modus) jika enrolled_university adalah Full time course/Part time course\n",
    "2. isi dengan 'Graduate' (dari modus) jika enrolled_university adalah no_enrollment\n",
    "3. isi sisanya dengan constant N\n",
    "\n",
    "**major_discipline**\n",
    "1. isi dengan STEM (dari modus) jika education_level Masters / Phd\n",
    "2. isi dengan No Major jika education level Primary School / High School / Graduate\n",
    "2. isi sisanya dengan constant N"
   ]
  },
  {
   "cell_type": "code",
   "execution_count": 13,
   "metadata": {
    "ExecuteTime": {
     "end_time": "2021-07-29T09:16:56.374663Z",
     "start_time": "2021-07-29T09:16:56.345549Z"
    }
   },
   "outputs": [],
   "source": [
    "lowEdu = ['Primary School', 'High School', 'Graduate']\n",
    "highEdu = ['Masters', 'Phd']\n",
    "\n",
    "def fillEnrolledUniversity(x):\n",
    "    if x['enrolled_university'] is np.nan:\n",
    "        if x['education_level'] in lowEdu:\n",
    "            x['enrolled_university'] = 'no_enrollment'\n",
    "        elif (x['education_level'] in highEdu) or (x['major_discipline'] in ['STEM', 'Business Degree', 'Arts', 'Humanities', 'Other']):\n",
    "             x['enrolled_university'] = 'Full time course'\n",
    "        else: \n",
    "             x['enrolled_university'] = 'N'\n",
    "    return x\n",
    "\n",
    "def fillEducationLevel(x):\n",
    "    if x['education_level'] is np.nan:\n",
    "        if x['enrolled_university'] in ['Full time course', 'Part time course']:\n",
    "            x['education_level'] = 'Masters'\n",
    "        elif x['enrolled_university'] == 'no_enrollment':\n",
    "            x['education_level'] = 'Graduate'\n",
    "        else: \n",
    "            x['education_level'] = 'N'\n",
    "    return x\n",
    "\n",
    "def fillMajorDiscipline(x):\n",
    "    if x['major_discipline'] is np.nan:\n",
    "        if x['education_level'] in highEdu:\n",
    "            x['major_discipline'] = 'STEM'\n",
    "        elif x['education_level'] in lowEdu:\n",
    "            x['major_discipline'] = 'No Major'\n",
    "        else: \n",
    "            x['major_discipline'] = 'N'\n",
    "    return x\n"
   ]
  },
  {
   "cell_type": "code",
   "execution_count": 14,
   "metadata": {
    "ExecuteTime": {
     "end_time": "2021-07-29T09:16:58.109661Z",
     "start_time": "2021-07-29T09:16:56.378690Z"
    }
   },
   "outputs": [],
   "source": [
    "df['enrolled_university'] = df[education_data].apply(fillEnrolledUniversity, axis=1)"
   ]
  },
  {
   "cell_type": "code",
   "execution_count": 15,
   "metadata": {
    "ExecuteTime": {
     "end_time": "2021-07-29T09:16:59.175656Z",
     "start_time": "2021-07-29T09:16:58.111403Z"
    }
   },
   "outputs": [],
   "source": [
    "df['education_level'] = df[education_data].apply(fillEducationLevel, axis=1)"
   ]
  },
  {
   "cell_type": "code",
   "execution_count": 16,
   "metadata": {
    "ExecuteTime": {
     "end_time": "2021-07-29T09:17:00.297611Z",
     "start_time": "2021-07-29T09:16:59.178187Z"
    }
   },
   "outputs": [],
   "source": [
    "df['major_discipline'] = df[education_data].apply(fillMajorDiscipline, axis=1)"
   ]
  },
  {
   "cell_type": "markdown",
   "metadata": {
    "ExecuteTime": {
     "end_time": "2021-07-23T06:38:26.551862Z",
     "start_time": "2021-07-23T06:38:26.543698Z"
    }
   },
   "source": [
    "## Handling Missing Value in company_type, company_size, last_new_job dan experience"
   ]
  },
  {
   "cell_type": "markdown",
   "metadata": {},
   "source": [
    "**Hypothesis**   \n",
    "Ho : tidak ada keterkaitan diantara kedua variable\\\n",
    "Ha : ada keterkaitan diantara kedua variable"
   ]
  },
  {
   "cell_type": "code",
   "execution_count": 17,
   "metadata": {
    "ExecuteTime": {
     "end_time": "2021-07-29T09:17:00.367017Z",
     "start_time": "2021-07-29T09:17:00.299303Z"
    }
   },
   "outputs": [
    {
     "name": "stdout",
     "output_type": "stream",
     "text": [
      "Tolak Ho, company_size memiliki keterkaitan dengan company_type\n",
      "Tolak Ho, company_size memiliki keterkaitan dengan last_new_job\n",
      "Tolak Ho, company_type memiliki keterkaitan dengan last_new_job\n"
     ]
    }
   ],
   "source": [
    "company_data = ['company_size', 'company_type', 'last_new_job']\n",
    "skip = []\n",
    "\n",
    "for i in company_data:\n",
    "    for j in company_data:\n",
    "        if i == j or j in skip:\n",
    "            continue\n",
    "        else:\n",
    "            stats, pval, dof, expected = chi2_contingency(pd.crosstab(df[i], df[j]))\n",
    "            # conclusion\n",
    "            if pval <= 0.05:\n",
    "                print(f'Tolak Ho, {i} memiliki keterkaitan dengan {j}')\n",
    "            else:\n",
    "                print(f'Terima Ho, {i} tidak memiliki keterkaitan dengan {j}')\n",
    "    skip.append(i)"
   ]
  },
  {
   "cell_type": "code",
   "execution_count": 18,
   "metadata": {
    "ExecuteTime": {
     "end_time": "2021-07-29T09:17:00.511055Z",
     "start_time": "2021-07-29T09:17:00.370053Z"
    }
   },
   "outputs": [
    {
     "name": "stdout",
     "output_type": "stream",
     "text": [
      "  company_size company_type last_new_job\n",
      "0        50-99      Pvt Ltd            1\n",
      "  company_size company_type last_new_job\n",
      "0      100-500      Pvt Ltd           >4\n",
      "  company_size company_type last_new_job\n",
      "0        50-99      Pvt Ltd        never\n",
      "  company_size company_type last_new_job\n",
      "0        50-99      Pvt Ltd            4\n",
      "  company_size company_type last_new_job\n",
      "0        50-99      Pvt Ltd            3\n",
      "  company_size company_type last_new_job\n",
      "0        50-99      Pvt Ltd            2\n"
     ]
    }
   ],
   "source": [
    "uniqueLastNewJob = df['last_new_job'].dropna().unique()\n",
    "for i in uniqueLastNewJob:\n",
    "    print(df[df['last_new_job'] == i][company_data].mode())\n",
    "    "
   ]
  },
  {
   "cell_type": "code",
   "execution_count": 19,
   "metadata": {
    "ExecuteTime": {
     "end_time": "2021-07-29T09:17:00.525372Z",
     "start_time": "2021-07-29T09:17:00.514357Z"
    }
   },
   "outputs": [
    {
     "data": {
      "text/plain": [
       "0    1\n",
       "dtype: object"
      ]
     },
     "execution_count": 19,
     "metadata": {},
     "output_type": "execute_result"
    }
   ],
   "source": [
    "df['last_new_job'].mode()"
   ]
  },
  {
   "cell_type": "markdown",
   "metadata": {},
   "source": [
    "dari data diatas kita dapat menyiasati missing value untuk variable `company_size`, `company_type`, `last_new_job` sebagai berikut\n",
    "1. isi company_size\t& company_type dengan constant 'N' jika last_new_job memiliki value never untuk menandai pendaftar yang belum bekerja\n",
    "2. isi company_size, company_type & last_new_job dengan constant 'N' jika ketiganya NaN untuk menandai pendaftar yang belum bekerja\n",
    "3. company_type yang nan diisi dengan 'Pvt Ltd' (hasil modus)\n",
    "4. company_size yang nan diisi dengan 100-500 jika last_new_job >4 dan 50-99 untuk yang lain (hasil modus)\n",
    "5. last_new_job diisi dengan 1 (hasil modus)"
   ]
  },
  {
   "cell_type": "code",
   "execution_count": 20,
   "metadata": {
    "ExecuteTime": {
     "end_time": "2021-07-29T09:17:05.882199Z",
     "start_time": "2021-07-29T09:17:00.530067Z"
    }
   },
   "outputs": [],
   "source": [
    "def fillCompanyData(x):\n",
    "    if (x['last_new_job'] == 'never' and x['company_size'] is np.nan and x['company_type'] is np.nan) or (x.isna().sum() == 3):\n",
    "        return x.fillna('N')\n",
    "    else:\n",
    "        if x['company_type'] is np.nan:\n",
    "            x['company_type'] = 'Pvt Ltd'\n",
    "        if x['company_size'] is np.nan:\n",
    "            x['company_size'] = '100-500' if x['last_new_job'] == '>4' else '50-99'\n",
    "        if x['last_new_job'] is np.nan:\n",
    "            x['last_new_job'] = '1'\n",
    "        \n",
    "        return x\n",
    "\n",
    "df[company_data] = df[company_data].apply(fillCompanyData, axis=1)"
   ]
  },
  {
   "cell_type": "markdown",
   "metadata": {},
   "source": [
    "**Hypothesis**   \n",
    "Ho : tidak ada keterkaitan diantara variable experience dan last_new_job\\\n",
    "Ha : ada keterkaitan diantara variable experience dan last_new_job"
   ]
  },
  {
   "cell_type": "code",
   "execution_count": 21,
   "metadata": {
    "ExecuteTime": {
     "end_time": "2021-07-29T09:17:05.920969Z",
     "start_time": "2021-07-29T09:17:05.884070Z"
    }
   },
   "outputs": [
    {
     "name": "stdout",
     "output_type": "stream",
     "text": [
      "Tolak Ho, last_new_job memiliki keterkaitan dengan experience\n"
     ]
    }
   ],
   "source": [
    "i = 'last_new_job'\n",
    "j = 'experience'\n",
    "\n",
    "stats, pval, dof, expected = chi2_contingency(pd.crosstab(df[i], df[j]))\n",
    "# conclusion\n",
    "if pval <= 0.05:\n",
    "    print(f'Tolak Ho, {i} memiliki keterkaitan dengan {j}')\n",
    "else:\n",
    "    print(f'Terima Ho, {i} tidak memiliki keterkaitan dengan {j}')"
   ]
  },
  {
   "cell_type": "code",
   "execution_count": 22,
   "metadata": {
    "ExecuteTime": {
     "end_time": "2021-07-29T09:17:05.988751Z",
     "start_time": "2021-07-29T09:17:05.924263Z"
    }
   },
   "outputs": [
    {
     "name": "stdout",
     "output_type": "stream",
     "text": [
      "  experience last_new_job\n",
      "0        >20            1\n",
      "  experience last_new_job\n",
      "0        >20           >4\n",
      "  experience last_new_job\n",
      "0          3        never\n",
      "  experience last_new_job\n",
      "0        >20            4\n",
      "  experience last_new_job\n",
      "0        >20            3\n",
      "  experience last_new_job\n",
      "0        >20            2\n",
      "  experience last_new_job\n",
      "0          3            N\n"
     ]
    }
   ],
   "source": [
    "uniqueLastNewJob = df['last_new_job'].dropna().unique()\n",
    "for i in uniqueLastNewJob:\n",
    "    print(df[df['last_new_job'] == i][['experience', 'last_new_job']].mode())"
   ]
  },
  {
   "cell_type": "markdown",
   "metadata": {},
   "source": [
    "dari data diatas kita dapat menyiasati missing value untuk variable `experience` sebagai berikut:\n",
    "* jika last_new_job never atau n, maka diisi dengan 3 selain itu diisi dengan >20"
   ]
  },
  {
   "cell_type": "code",
   "execution_count": 23,
   "metadata": {
    "ExecuteTime": {
     "end_time": "2021-07-29T09:17:07.192204Z",
     "start_time": "2021-07-29T09:17:05.997655Z"
    }
   },
   "outputs": [],
   "source": [
    "def fillExperience(x):\n",
    "    if x['experience'] is np.nan:\n",
    "        x['experience'] = '3' if x['last_new_job'] in ['never', 'n'] else '>20'\n",
    "    return x\n",
    "\n",
    "df['experience'] = df[['experience', 'last_new_job']].apply(fillExperience, axis=1)"
   ]
  },
  {
   "cell_type": "code",
   "execution_count": 24,
   "metadata": {
    "ExecuteTime": {
     "end_time": "2021-07-29T09:17:07.216830Z",
     "start_time": "2021-07-29T09:17:07.195173Z"
    }
   },
   "outputs": [
    {
     "data": {
      "text/plain": [
       "enrollee_id                0.00000\n",
       "city                       0.00000\n",
       "city_development_index     0.00000\n",
       "gender                    23.53064\n",
       "relevent_experience        0.00000\n",
       "enrolled_university        0.00000\n",
       "education_level            0.00000\n",
       "major_discipline           0.00000\n",
       "experience                 0.00000\n",
       "company_size               0.00000\n",
       "company_type               0.00000\n",
       "last_new_job               0.00000\n",
       "training_hours             0.00000\n",
       "target                     0.00000\n",
       "dtype: float64"
      ]
     },
     "execution_count": 24,
     "metadata": {},
     "output_type": "execute_result"
    }
   ],
   "source": [
    "df.isna().sum()/df.shape[0]*100"
   ]
  },
  {
   "cell_type": "markdown",
   "metadata": {},
   "source": [
    "# Preprocessing\n",
    "\n",
    "x : semua feature kecuali enrollee_id\\\n",
    "y : target\n",
    "\n",
    "skema:\n",
    "1. imputer constant, one hot encoding : gender, relevent_experience, enrolled_university\n",
    "2. ordinal encoding : education_level, experience, last_new_job\n",
    "3. binary encoding : city, major_discipline, company_size, company_type\n",
    "4. robust scaler : city_development_index, training_hours\n",
    "5. remainder : passthrough\n"
   ]
  },
  {
   "cell_type": "code",
   "execution_count": 25,
   "metadata": {
    "ExecuteTime": {
     "end_time": "2021-07-29T09:17:07.226844Z",
     "start_time": "2021-07-29T09:17:07.220115Z"
    }
   },
   "outputs": [],
   "source": [
    "# One Hot Pipeline\n",
    "onehot_pipe = Pipeline([\n",
    "    ('modus imputer', SimpleImputer(strategy='constant', fill_value='Other')),\n",
    "    ('one hot encoder', OneHotEncoder(drop='first'))\n",
    "])"
   ]
  },
  {
   "cell_type": "code",
   "execution_count": 26,
   "metadata": {
    "ExecuteTime": {
     "end_time": "2021-07-29T09:17:07.243242Z",
     "start_time": "2021-07-29T09:17:07.231162Z"
    }
   },
   "outputs": [
    {
     "data": {
      "text/plain": [
       "1        8270\n",
       ">4       3290\n",
       "2        2900\n",
       "never    2452\n",
       "4        1029\n",
       "3        1024\n",
       "N         193\n",
       "Name: last_new_job, dtype: int64"
      ]
     },
     "execution_count": 26,
     "metadata": {},
     "output_type": "execute_result"
    }
   ],
   "source": [
    "df['last_new_job'].value_counts()"
   ]
  },
  {
   "cell_type": "code",
   "execution_count": 27,
   "metadata": {
    "ExecuteTime": {
     "end_time": "2021-07-29T09:17:07.252728Z",
     "start_time": "2021-07-29T09:17:07.246011Z"
    }
   },
   "outputs": [],
   "source": [
    "# ordinal mapping functions\n",
    "def map_experience():\n",
    "    dictexp =  {None:0}\n",
    "    for i in df['experience'].unique():\n",
    "        if (i == '<1'):\n",
    "            dictexp[i] = 0\n",
    "        elif(i == '>20'):\n",
    "            dictexp[i] = 21\n",
    "        else:\n",
    "            dictexp[i] = int(i)\n",
    "    return dictexp\n",
    "\n",
    "def map_lastnewjob():\n",
    "    dictexp =  {None:0}\n",
    "    for i in df['last_new_job'].unique():\n",
    "        if (i == '>4'):\n",
    "            dictexp[i] = 5\n",
    "        elif(i == 'never' or i == 'N'):\n",
    "            dictexp[i] = 0\n",
    "        else:\n",
    "            dictexp[i] = int(i)\n",
    "    return dictexp"
   ]
  },
  {
   "cell_type": "code",
   "execution_count": 28,
   "metadata": {
    "ExecuteTime": {
     "end_time": "2021-07-29T09:17:07.262843Z",
     "start_time": "2021-07-29T09:17:07.255613Z"
    }
   },
   "outputs": [],
   "source": [
    "# Ordinal Mapping\n",
    "ordinal_mapping = [\n",
    "    {\n",
    "        'col': 'education_level',\n",
    "        'mapping': {None:0, 'N':0, 'no_enrollment': 1, 'Full time course':2, 'Part time course':3}\n",
    "    }, \n",
    "    {\n",
    "        'col': 'experience',\n",
    "        'mapping': map_experience()\n",
    "    }, \n",
    "    {\n",
    "        'col': 'last_new_job',\n",
    "        'mapping': map_lastnewjob()\n",
    "    }\n",
    "]"
   ]
  },
  {
   "cell_type": "code",
   "execution_count": 29,
   "metadata": {
    "ExecuteTime": {
     "end_time": "2021-07-29T09:17:07.269157Z",
     "start_time": "2021-07-29T09:17:07.265191Z"
    }
   },
   "outputs": [],
   "source": [
    "transformer = ColumnTransformer([\n",
    "    ('one hot encoding', onehot_pipe, ['gender', 'relevent_experience', 'enrolled_university']),\n",
    "    ('ordinal encoding', ce.OrdinalEncoder(mapping=ordinal_mapping), ['education_level', 'experience', 'last_new_job']),\n",
    "    ('binary encoding', ce.BinaryEncoder(), ['city', 'major_discipline', 'company_size', 'company_type']),\n",
    "    ('Robust Scaler', RobustScaler(), ['city_development_index', 'training_hours'])\n",
    "], remainder='passthrough')"
   ]
  },
  {
   "cell_type": "code",
   "execution_count": 30,
   "metadata": {
    "ExecuteTime": {
     "end_time": "2021-07-29T09:17:07.542253Z",
     "start_time": "2021-07-29T09:17:07.272386Z"
    }
   },
   "outputs": [
    {
     "name": "stderr",
     "output_type": "stream",
     "text": [
      "/opt/anaconda3/lib/python3.8/site-packages/category_encoders/utils.py:21: FutureWarning: is_categorical is deprecated and will be removed in a future version.  Use is_categorical_dtype instead\n",
      "  elif pd.api.types.is_categorical(cols):\n"
     ]
    },
    {
     "data": {
      "text/plain": [
       "array([[ 1.        ,  0.        ,  0.        , ...,  1.        ,\n",
       "         0.09444444, -0.16923077],\n",
       "       [ 1.        ,  0.        ,  1.        , ...,  1.        ,\n",
       "        -0.70555556,  0.        ],\n",
       "       [ 0.        ,  1.        ,  1.        , ...,  0.        ,\n",
       "        -1.55      ,  0.55384615],\n",
       "       ...,\n",
       "       [ 1.        ,  0.        ,  0.        , ...,  1.        ,\n",
       "         0.09444444, -0.04615385],\n",
       "       [ 1.        ,  0.        ,  0.        , ...,  1.        ,\n",
       "        -0.56111111,  0.76923077],\n",
       "       [ 0.        ,  1.        ,  1.        , ...,  1.        ,\n",
       "        -0.26666667,  1.23076923]])"
      ]
     },
     "execution_count": 30,
     "metadata": {},
     "output_type": "execute_result"
    }
   ],
   "source": [
    "transformer.fit_transform(df.drop(columns=['enrollee_id', 'target']))"
   ]
  },
  {
   "cell_type": "markdown",
   "metadata": {},
   "source": [
    "# Splitting Data"
   ]
  },
  {
   "cell_type": "code",
   "execution_count": 31,
   "metadata": {
    "ExecuteTime": {
     "end_time": "2021-07-29T09:17:07.554374Z",
     "start_time": "2021-07-29T09:17:07.546302Z"
    }
   },
   "outputs": [],
   "source": [
    "x = df.drop(columns=['enrollee_id', 'target'])\n",
    "y = df['target']"
   ]
  },
  {
   "cell_type": "code",
   "execution_count": 32,
   "metadata": {
    "ExecuteTime": {
     "end_time": "2021-07-29T09:17:07.572911Z",
     "start_time": "2021-07-29T09:17:07.556691Z"
    }
   },
   "outputs": [
    {
     "data": {
      "text/plain": [
       "0.0    75.065247\n",
       "1.0    24.934753\n",
       "Name: target, dtype: float64"
      ]
     },
     "execution_count": 32,
     "metadata": {},
     "output_type": "execute_result"
    }
   ],
   "source": [
    "df['target'].value_counts() / df.shape[0] * 100"
   ]
  },
  {
   "cell_type": "markdown",
   "metadata": {},
   "source": [
    "> terdapat imbalance data, dimana data terdiri dari 75% kelas 0 dan 25% kelas 1"
   ]
  },
  {
   "cell_type": "code",
   "execution_count": 33,
   "metadata": {
    "ExecuteTime": {
     "end_time": "2021-07-29T09:17:07.597521Z",
     "start_time": "2021-07-29T09:17:07.576316Z"
    }
   },
   "outputs": [],
   "source": [
    "x_train, x_test, y_train, y_test = train_test_split(\n",
    "    x,\n",
    "    y,\n",
    "    stratify=y,\n",
    "    random_state=2020\n",
    ")"
   ]
  },
  {
   "cell_type": "markdown",
   "metadata": {},
   "source": [
    "# Benchmark"
   ]
  },
  {
   "cell_type": "markdown",
   "metadata": {},
   "source": [
    "## Confusion Matrix"
   ]
  },
  {
   "cell_type": "markdown",
   "metadata": {
    "ExecuteTime": {
     "end_time": "2021-07-29T07:02:40.681890Z",
     "start_time": "2021-07-29T07:02:40.671590Z"
    }
   },
   "source": [
    "|                              \t| Not looking for job change                                                               \t| Looking for a job change                                                            \t|\n",
    "|------------------------------\t|------------------------------------------------------------------------------------------\t|-------------------------------------------------------------------------------------\t|\n",
    "| Not looking for job change   \t| TRUE NEGATIVE<br>enrollee yang tidak ingin pindah kerja<br>diprediksi tidak pindah kerja \t| FALSE POSITIVE<br>enrollee yang tidak ingin pindah kerja<br>diprediksi pindah kerja \t|\n",
    "| <br>Looking for a job change \t| FALSE NEGATIVE<br>enrollee yang ingin pindah kerja<br>diprediksi tidak pindah kerja      \t| TRUE POSITIVE<br>enrollee yang ingin pindah kerja<br>diprediksi ingin pindah kerja  \t|"
   ]
  },
  {
   "cell_type": "markdown",
   "metadata": {},
   "source": [
    "Dampak FALSE POSITIVE : melakukan follow up kepada enrollee yang tidak ingin pindah kerja\\\n",
    "Dampak FALSE NEGATIVE : kehilangan kandidat yang ingin bekerja di perusahaan\n",
    "\n",
    "untuk mengoptimalisasi prediksi kandidat yang ingin bekerja di perusahaan, maka perlu meminimalisir prediksi **FALSE NEGATIVE** maka digunakan **RECALL Scoring**\n",
    "\n",
    "tetapi karena label (data target) imbalance kita bisa gunakan **F1-Score**"
   ]
  },
  {
   "cell_type": "markdown",
   "metadata": {},
   "source": [
    "## Cross Validation"
   ]
  },
  {
   "cell_type": "code",
   "execution_count": 34,
   "metadata": {
    "ExecuteTime": {
     "end_time": "2021-07-29T09:17:16.641107Z",
     "start_time": "2021-07-29T09:17:07.601195Z"
    }
   },
   "outputs": [
    {
     "name": "stderr",
     "output_type": "stream",
     "text": [
      "/opt/anaconda3/lib/python3.8/site-packages/category_encoders/utils.py:21: FutureWarning: is_categorical is deprecated and will be removed in a future version.  Use is_categorical_dtype instead\n",
      "  elif pd.api.types.is_categorical(cols):\n",
      "/opt/anaconda3/lib/python3.8/site-packages/category_encoders/utils.py:21: FutureWarning: is_categorical is deprecated and will be removed in a future version.  Use is_categorical_dtype instead\n",
      "  elif pd.api.types.is_categorical(cols):\n",
      "/opt/anaconda3/lib/python3.8/site-packages/category_encoders/utils.py:21: FutureWarning: is_categorical is deprecated and will be removed in a future version.  Use is_categorical_dtype instead\n",
      "  elif pd.api.types.is_categorical(cols):\n",
      "/opt/anaconda3/lib/python3.8/site-packages/category_encoders/utils.py:21: FutureWarning: is_categorical is deprecated and will be removed in a future version.  Use is_categorical_dtype instead\n",
      "  elif pd.api.types.is_categorical(cols):\n",
      "/opt/anaconda3/lib/python3.8/site-packages/category_encoders/utils.py:21: FutureWarning: is_categorical is deprecated and will be removed in a future version.  Use is_categorical_dtype instead\n",
      "  elif pd.api.types.is_categorical(cols):\n",
      "/opt/anaconda3/lib/python3.8/site-packages/category_encoders/utils.py:21: FutureWarning: is_categorical is deprecated and will be removed in a future version.  Use is_categorical_dtype instead\n",
      "  elif pd.api.types.is_categorical(cols):\n",
      "/opt/anaconda3/lib/python3.8/site-packages/category_encoders/utils.py:21: FutureWarning: is_categorical is deprecated and will be removed in a future version.  Use is_categorical_dtype instead\n",
      "  elif pd.api.types.is_categorical(cols):\n",
      "/opt/anaconda3/lib/python3.8/site-packages/category_encoders/utils.py:21: FutureWarning: is_categorical is deprecated and will be removed in a future version.  Use is_categorical_dtype instead\n",
      "  elif pd.api.types.is_categorical(cols):\n",
      "/opt/anaconda3/lib/python3.8/site-packages/category_encoders/utils.py:21: FutureWarning: is_categorical is deprecated and will be removed in a future version.  Use is_categorical_dtype instead\n",
      "  elif pd.api.types.is_categorical(cols):\n",
      "/opt/anaconda3/lib/python3.8/site-packages/category_encoders/utils.py:21: FutureWarning: is_categorical is deprecated and will be removed in a future version.  Use is_categorical_dtype instead\n",
      "  elif pd.api.types.is_categorical(cols):\n",
      "/opt/anaconda3/lib/python3.8/site-packages/category_encoders/utils.py:21: FutureWarning: is_categorical is deprecated and will be removed in a future version.  Use is_categorical_dtype instead\n",
      "  elif pd.api.types.is_categorical(cols):\n",
      "/opt/anaconda3/lib/python3.8/site-packages/category_encoders/utils.py:21: FutureWarning: is_categorical is deprecated and will be removed in a future version.  Use is_categorical_dtype instead\n",
      "  elif pd.api.types.is_categorical(cols):\n",
      "/opt/anaconda3/lib/python3.8/site-packages/category_encoders/utils.py:21: FutureWarning: is_categorical is deprecated and will be removed in a future version.  Use is_categorical_dtype instead\n",
      "  elif pd.api.types.is_categorical(cols):\n",
      "/opt/anaconda3/lib/python3.8/site-packages/category_encoders/utils.py:21: FutureWarning: is_categorical is deprecated and will be removed in a future version.  Use is_categorical_dtype instead\n",
      "  elif pd.api.types.is_categorical(cols):\n",
      "/opt/anaconda3/lib/python3.8/site-packages/category_encoders/utils.py:21: FutureWarning: is_categorical is deprecated and will be removed in a future version.  Use is_categorical_dtype instead\n",
      "  elif pd.api.types.is_categorical(cols):\n",
      "/opt/anaconda3/lib/python3.8/site-packages/category_encoders/utils.py:21: FutureWarning: is_categorical is deprecated and will be removed in a future version.  Use is_categorical_dtype instead\n",
      "  elif pd.api.types.is_categorical(cols):\n",
      "/opt/anaconda3/lib/python3.8/site-packages/category_encoders/utils.py:21: FutureWarning: is_categorical is deprecated and will be removed in a future version.  Use is_categorical_dtype instead\n",
      "  elif pd.api.types.is_categorical(cols):\n",
      "/opt/anaconda3/lib/python3.8/site-packages/category_encoders/utils.py:21: FutureWarning: is_categorical is deprecated and will be removed in a future version.  Use is_categorical_dtype instead\n",
      "  elif pd.api.types.is_categorical(cols):\n",
      "/opt/anaconda3/lib/python3.8/site-packages/category_encoders/utils.py:21: FutureWarning: is_categorical is deprecated and will be removed in a future version.  Use is_categorical_dtype instead\n",
      "  elif pd.api.types.is_categorical(cols):\n",
      "/opt/anaconda3/lib/python3.8/site-packages/category_encoders/utils.py:21: FutureWarning: is_categorical is deprecated and will be removed in a future version.  Use is_categorical_dtype instead\n",
      "  elif pd.api.types.is_categorical(cols):\n"
     ]
    }
   ],
   "source": [
    "models = [\n",
    "    LogisticRegression(solver='liblinear', class_weight='balanced', random_state=2020), \n",
    "    KNeighborsClassifier(), \n",
    "    DecisionTreeClassifier(random_state=2020, max_depth=3),\n",
    "    RandomForestClassifier(n_estimators=20, max_depth=3, random_state=2020)\n",
    "]\n",
    "cv_score = []\n",
    "cv_mean = []\n",
    "cv_std = []\n",
    "\n",
    "for i in models:\n",
    "    skfold = StratifiedKFold(n_splits=5)\n",
    "    estimator = Pipeline([\n",
    "        ('preprocess', transformer),\n",
    "        ('model', i)\n",
    "    ])\n",
    "\n",
    "    model_cv = cross_val_score(estimator, x_train, y_train, cv=skfold, scoring='f1')\n",
    "    cv_score.append(model_cv)\n",
    "    cv_mean.append(model_cv.mean())\n",
    "    cv_std.append(model_cv.std())"
   ]
  },
  {
   "cell_type": "code",
   "execution_count": 35,
   "metadata": {
    "ExecuteTime": {
     "end_time": "2021-07-29T09:17:16.657878Z",
     "start_time": "2021-07-29T09:17:16.643109Z"
    }
   },
   "outputs": [
    {
     "data": {
      "text/html": [
       "<div>\n",
       "<style scoped>\n",
       "    .dataframe tbody tr th:only-of-type {\n",
       "        vertical-align: middle;\n",
       "    }\n",
       "\n",
       "    .dataframe tbody tr th {\n",
       "        vertical-align: top;\n",
       "    }\n",
       "\n",
       "    .dataframe thead th {\n",
       "        text-align: right;\n",
       "    }\n",
       "</style>\n",
       "<table border=\"1\" class=\"dataframe\">\n",
       "  <thead>\n",
       "    <tr style=\"text-align: right;\">\n",
       "      <th></th>\n",
       "      <th>model</th>\n",
       "      <th>score</th>\n",
       "      <th>mean</th>\n",
       "      <th>std</th>\n",
       "    </tr>\n",
       "  </thead>\n",
       "  <tbody>\n",
       "    <tr>\n",
       "      <th>0</th>\n",
       "      <td>logreg</td>\n",
       "      <td>[0.5339524085896692, 0.552414605418139, 0.5574...</td>\n",
       "      <td>0.542664</td>\n",
       "      <td>0.010210</td>\n",
       "    </tr>\n",
       "    <tr>\n",
       "      <th>1</th>\n",
       "      <td>knn</td>\n",
       "      <td>[0.4163454124903624, 0.4498852333588371, 0.428...</td>\n",
       "      <td>0.427271</td>\n",
       "      <td>0.012419</td>\n",
       "    </tr>\n",
       "    <tr>\n",
       "      <th>2</th>\n",
       "      <td>tree</td>\n",
       "      <td>[0.4784688995215311, 0.49877750611246946, 0.49...</td>\n",
       "      <td>0.489008</td>\n",
       "      <td>0.015518</td>\n",
       "    </tr>\n",
       "    <tr>\n",
       "      <th>3</th>\n",
       "      <td>rf</td>\n",
       "      <td>[0.37183098591549296, 0.26609442060085836, 0.2...</td>\n",
       "      <td>0.298577</td>\n",
       "      <td>0.041645</td>\n",
       "    </tr>\n",
       "  </tbody>\n",
       "</table>\n",
       "</div>"
      ],
      "text/plain": [
       "    model                                              score      mean  \\\n",
       "0  logreg  [0.5339524085896692, 0.552414605418139, 0.5574...  0.542664   \n",
       "1     knn  [0.4163454124903624, 0.4498852333588371, 0.428...  0.427271   \n",
       "2    tree  [0.4784688995215311, 0.49877750611246946, 0.49...  0.489008   \n",
       "3      rf  [0.37183098591549296, 0.26609442060085836, 0.2...  0.298577   \n",
       "\n",
       "        std  \n",
       "0  0.010210  \n",
       "1  0.012419  \n",
       "2  0.015518  \n",
       "3  0.041645  "
      ]
     },
     "execution_count": 35,
     "metadata": {},
     "output_type": "execute_result"
    }
   ],
   "source": [
    "pd.DataFrame({\n",
    "    'model': ['logreg', 'knn', 'tree', 'rf'],\n",
    "    'score': cv_score,\n",
    "    'mean': cv_mean,\n",
    "    'std': cv_std\n",
    "})"
   ]
  },
  {
   "cell_type": "markdown",
   "metadata": {},
   "source": [
    "> dari cross validation diatas, logreg memiliki rata-rata paling tinggi dan nilai std yang cukup stabil"
   ]
  },
  {
   "cell_type": "markdown",
   "metadata": {
    "ExecuteTime": {
     "end_time": "2021-07-29T07:29:06.429169Z",
     "start_time": "2021-07-29T07:29:06.424970Z"
    }
   },
   "source": [
    "## Hyperparameter Tuning"
   ]
  },
  {
   "cell_type": "code",
   "execution_count": 36,
   "metadata": {
    "ExecuteTime": {
     "end_time": "2021-07-29T09:17:16.668177Z",
     "start_time": "2021-07-29T09:17:16.660075Z"
    }
   },
   "outputs": [],
   "source": [
    "logreg = LogisticRegression(solver='liblinear', class_weight='balanced', random_state=2020)\n",
    "estimator = Pipeline([\n",
    "    ('preprocess', transformer),\n",
    "    ('model', logreg)\n",
    "])"
   ]
  },
  {
   "cell_type": "code",
   "execution_count": 37,
   "metadata": {
    "ExecuteTime": {
     "end_time": "2021-07-29T09:17:16.688971Z",
     "start_time": "2021-07-29T09:17:16.677763Z"
    }
   },
   "outputs": [],
   "source": [
    "# estimator.get_params()"
   ]
  },
  {
   "cell_type": "code",
   "execution_count": 38,
   "metadata": {
    "ExecuteTime": {
     "end_time": "2021-07-29T09:17:16.704058Z",
     "start_time": "2021-07-29T09:17:16.694591Z"
    }
   },
   "outputs": [],
   "source": [
    "hyperparam_space = {\n",
    "    'model__C': [1000, 100, 10, 1, 0.1, 0.01, 0.001], # benchmark 1\n",
    "    'model__solver': ['liblinear', 'newton-cg'], # benchmark liblinear\n",
    "    'model__max_iter': [50, 75, 100, 250, 500, 750], # benchmark 100\n",
    "}"
   ]
  },
  {
   "cell_type": "code",
   "execution_count": 39,
   "metadata": {
    "ExecuteTime": {
     "end_time": "2021-07-29T09:17:16.716422Z",
     "start_time": "2021-07-29T09:17:16.709074Z"
    }
   },
   "outputs": [],
   "source": [
    "skfold = StratifiedKFold(n_splits=5)\n",
    "grid_search = GridSearchCV(\n",
    "    estimator,\n",
    "    param_grid = hyperparam_space,\n",
    "    cv = skfold,\n",
    "    scoring='f1',\n",
    "    n_jobs=-1\n",
    ")"
   ]
  },
  {
   "cell_type": "code",
   "execution_count": 40,
   "metadata": {
    "ExecuteTime": {
     "end_time": "2021-07-29T09:18:19.767040Z",
     "start_time": "2021-07-29T09:17:16.721491Z"
    }
   },
   "outputs": [
    {
     "name": "stderr",
     "output_type": "stream",
     "text": [
      "/opt/anaconda3/lib/python3.8/site-packages/category_encoders/utils.py:21: FutureWarning: is_categorical is deprecated and will be removed in a future version.  Use is_categorical_dtype instead\n",
      "  elif pd.api.types.is_categorical(cols):\n"
     ]
    },
    {
     "data": {
      "text/plain": [
       "GridSearchCV(cv=StratifiedKFold(n_splits=5, random_state=None, shuffle=False),\n",
       "             estimator=Pipeline(steps=[('preprocess',\n",
       "                                        ColumnTransformer(remainder='passthrough',\n",
       "                                                          transformers=[('one '\n",
       "                                                                         'hot '\n",
       "                                                                         'encoding',\n",
       "                                                                         Pipeline(steps=[('modus '\n",
       "                                                                                          'imputer',\n",
       "                                                                                          SimpleImputer(fill_value='Other',\n",
       "                                                                                                        strategy='constant')),\n",
       "                                                                                         ('one '\n",
       "                                                                                          'hot '\n",
       "                                                                                          'encoder',\n",
       "                                                                                          OneHotEncoder(drop='first'))]),\n",
       "                                                                         ['gender',\n",
       "                                                                          'rele...\n",
       "                                                                          'company_type']),\n",
       "                                                                        ('Robust '\n",
       "                                                                         'Scaler',\n",
       "                                                                         RobustScaler(),\n",
       "                                                                         ['city_development_index',\n",
       "                                                                          'training_hours'])])),\n",
       "                                       ('model',\n",
       "                                        LogisticRegression(class_weight='balanced',\n",
       "                                                           random_state=2020,\n",
       "                                                           solver='liblinear'))]),\n",
       "             n_jobs=-1,\n",
       "             param_grid={'model__C': [1000, 100, 10, 1, 0.1, 0.01, 0.001],\n",
       "                         'model__max_iter': [50, 75, 100, 250, 500, 750],\n",
       "                         'model__solver': ['liblinear', 'newton-cg']},\n",
       "             scoring='f1')"
      ]
     },
     "execution_count": 40,
     "metadata": {},
     "output_type": "execute_result"
    }
   ],
   "source": [
    "grid_search.fit(x_train, y_train)"
   ]
  },
  {
   "cell_type": "code",
   "execution_count": 41,
   "metadata": {
    "ExecuteTime": {
     "end_time": "2021-07-29T09:18:19.778786Z",
     "start_time": "2021-07-29T09:18:19.770163Z"
    }
   },
   "outputs": [
    {
     "name": "stdout",
     "output_type": "stream",
     "text": [
      "0.5454252664096301\n",
      "{'model__C': 0.1, 'model__max_iter': 50, 'model__solver': 'newton-cg'}\n"
     ]
    }
   ],
   "source": [
    "print(grid_search.best_score_)\n",
    "print(grid_search.best_params_)"
   ]
  },
  {
   "cell_type": "markdown",
   "metadata": {},
   "source": [
    "## Before and After Tuning"
   ]
  },
  {
   "cell_type": "code",
   "execution_count": 42,
   "metadata": {
    "ExecuteTime": {
     "end_time": "2021-07-29T09:18:20.306607Z",
     "start_time": "2021-07-29T09:18:19.784897Z"
    }
   },
   "outputs": [
    {
     "name": "stderr",
     "output_type": "stream",
     "text": [
      "/opt/anaconda3/lib/python3.8/site-packages/category_encoders/utils.py:21: FutureWarning: is_categorical is deprecated and will be removed in a future version.  Use is_categorical_dtype instead\n",
      "  elif pd.api.types.is_categorical(cols):\n"
     ]
    },
    {
     "data": {
      "text/plain": [
       "Pipeline(steps=[('preprocess',\n",
       "                 ColumnTransformer(remainder='passthrough',\n",
       "                                   transformers=[('one hot encoding',\n",
       "                                                  Pipeline(steps=[('modus '\n",
       "                                                                   'imputer',\n",
       "                                                                   SimpleImputer(fill_value='Other',\n",
       "                                                                                 strategy='constant')),\n",
       "                                                                  ('one hot '\n",
       "                                                                   'encoder',\n",
       "                                                                   OneHotEncoder(drop='first'))]),\n",
       "                                                  ['gender',\n",
       "                                                   'relevent_experience',\n",
       "                                                   'enrolled_university']),\n",
       "                                                 ('ordinal encoding',\n",
       "                                                  OrdinalEncoder(mapping=[{'col': '...\n",
       "                                                                                       '3': 3,\n",
       "                                                                                       '4': 4,\n",
       "                                                                                       '>4': 5,\n",
       "                                                                                       'N': 0,\n",
       "                                                                                       'never': 0}}]),\n",
       "                                                  ['education_level',\n",
       "                                                   'experience',\n",
       "                                                   'last_new_job']),\n",
       "                                                 ('binary encoding',\n",
       "                                                  BinaryEncoder(),\n",
       "                                                  ['city', 'major_discipline',\n",
       "                                                   'company_size',\n",
       "                                                   'company_type']),\n",
       "                                                 ('Robust Scaler',\n",
       "                                                  RobustScaler(),\n",
       "                                                  ['city_development_index',\n",
       "                                                   'training_hours'])])),\n",
       "                ('model',\n",
       "                 LogisticRegression(class_weight='balanced', random_state=2020,\n",
       "                                    solver='liblinear'))])"
      ]
     },
     "execution_count": 42,
     "metadata": {},
     "output_type": "execute_result"
    }
   ],
   "source": [
    "# Before \n",
    "logreg = LogisticRegression(solver='liblinear', class_weight='balanced', random_state=2020)\n",
    "estimator = Pipeline([\n",
    "    ('preprocess', transformer),\n",
    "    ('model', logreg)\n",
    "])\n",
    "estimator.fit(x_train, y_train)"
   ]
  },
  {
   "cell_type": "code",
   "execution_count": 43,
   "metadata": {
    "ExecuteTime": {
     "end_time": "2021-07-29T09:18:20.395256Z",
     "start_time": "2021-07-29T09:18:20.309780Z"
    }
   },
   "outputs": [
    {
     "name": "stdout",
     "output_type": "stream",
     "text": [
      "0.5378681626928471\n",
      "              precision    recall  f1-score   support\n",
      "\n",
      "         0.0       0.86      0.75      0.80      3596\n",
      "         1.0       0.46      0.64      0.54      1194\n",
      "\n",
      "    accuracy                           0.72      4790\n",
      "   macro avg       0.66      0.70      0.67      4790\n",
      "weighted avg       0.76      0.72      0.74      4790\n",
      "\n"
     ]
    }
   ],
   "source": [
    "y_pred = estimator.predict(x_test)\n",
    "cw_f1_score = f1_score(y_test, y_pred)\n",
    "cw_classification_report = classification_report(y_test, y_pred)\n",
    "print(cw_f1_score)\n",
    "print(cw_classification_report)\n"
   ]
  },
  {
   "cell_type": "code",
   "execution_count": 44,
   "metadata": {
    "ExecuteTime": {
     "end_time": "2021-07-29T09:18:20.923920Z",
     "start_time": "2021-07-29T09:18:20.398979Z"
    }
   },
   "outputs": [
    {
     "name": "stderr",
     "output_type": "stream",
     "text": [
      "/opt/anaconda3/lib/python3.8/site-packages/category_encoders/utils.py:21: FutureWarning: is_categorical is deprecated and will be removed in a future version.  Use is_categorical_dtype instead\n",
      "  elif pd.api.types.is_categorical(cols):\n"
     ]
    },
    {
     "data": {
      "text/plain": [
       "Pipeline(steps=[('preprocess',\n",
       "                 ColumnTransformer(remainder='passthrough',\n",
       "                                   transformers=[('one hot encoding',\n",
       "                                                  Pipeline(steps=[('modus '\n",
       "                                                                   'imputer',\n",
       "                                                                   SimpleImputer(fill_value='Other',\n",
       "                                                                                 strategy='constant')),\n",
       "                                                                  ('one hot '\n",
       "                                                                   'encoder',\n",
       "                                                                   OneHotEncoder(drop='first'))]),\n",
       "                                                  ['gender',\n",
       "                                                   'relevent_experience',\n",
       "                                                   'enrolled_university']),\n",
       "                                                 ('ordinal encoding',\n",
       "                                                  OrdinalEncoder(mapping=[{'col': '...\n",
       "                                                                                       'N': 0,\n",
       "                                                                                       'never': 0}}]),\n",
       "                                                  ['education_level',\n",
       "                                                   'experience',\n",
       "                                                   'last_new_job']),\n",
       "                                                 ('binary encoding',\n",
       "                                                  BinaryEncoder(),\n",
       "                                                  ['city', 'major_discipline',\n",
       "                                                   'company_size',\n",
       "                                                   'company_type']),\n",
       "                                                 ('Robust Scaler',\n",
       "                                                  RobustScaler(),\n",
       "                                                  ['city_development_index',\n",
       "                                                   'training_hours'])])),\n",
       "                ('model',\n",
       "                 LogisticRegression(C=0.1, class_weight='balanced', max_iter=50,\n",
       "                                    random_state=2020, solver='newton-cg'))])"
      ]
     },
     "execution_count": 44,
     "metadata": {},
     "output_type": "execute_result"
    }
   ],
   "source": [
    "# After\n",
    "best_model = grid_search.best_estimator_\n",
    "best_model.fit(x_train, y_train)"
   ]
  },
  {
   "cell_type": "code",
   "execution_count": 45,
   "metadata": {
    "ExecuteTime": {
     "end_time": "2021-07-29T09:18:21.029791Z",
     "start_time": "2021-07-29T09:18:20.929018Z"
    }
   },
   "outputs": [
    {
     "name": "stdout",
     "output_type": "stream",
     "text": [
      "0.5391915641476274\n",
      "              precision    recall  f1-score   support\n",
      "\n",
      "         0.0       0.86      0.75      0.81      3596\n",
      "         1.0       0.46      0.64      0.54      1194\n",
      "\n",
      "    accuracy                           0.73      4790\n",
      "   macro avg       0.66      0.70      0.67      4790\n",
      "weighted avg       0.76      0.73      0.74      4790\n",
      "\n"
     ]
    }
   ],
   "source": [
    "y_pred_final = best_model.predict(x_test)\n",
    "cwhs_f1_score = f1_score(y_test, y_pred_final)\n",
    "cwhs_classification_report = classification_report(y_test, y_pred_final)\n",
    "print(cwhs_f1_score)\n",
    "print(cwhs_classification_report)"
   ]
  },
  {
   "cell_type": "markdown",
   "metadata": {},
   "source": [
    "> Setelah dilakukan hyperparameter tuning, terdapat peningkatan performa walaupun tidak signifikan dari 53.78% menjadi 53.91%"
   ]
  },
  {
   "cell_type": "markdown",
   "metadata": {},
   "source": [
    "## Resampling SMOTE"
   ]
  },
  {
   "cell_type": "code",
   "execution_count": 46,
   "metadata": {
    "ExecuteTime": {
     "end_time": "2021-07-29T09:18:21.460198Z",
     "start_time": "2021-07-29T09:18:21.035569Z"
    }
   },
   "outputs": [
    {
     "name": "stderr",
     "output_type": "stream",
     "text": [
      "/opt/anaconda3/lib/python3.8/site-packages/category_encoders/utils.py:21: FutureWarning: is_categorical is deprecated and will be removed in a future version.  Use is_categorical_dtype instead\n",
      "  elif pd.api.types.is_categorical(cols):\n",
      "/opt/anaconda3/lib/python3.8/site-packages/category_encoders/utils.py:21: FutureWarning: is_categorical is deprecated and will be removed in a future version.  Use is_categorical_dtype instead\n",
      "  elif pd.api.types.is_categorical(cols):\n"
     ]
    }
   ],
   "source": [
    "transformer.fit(x_train)\n",
    "x_train_preprocessed = transformer.fit_transform(x_train)\n",
    "x_test_preprocessed = transformer.transform(x_test)\n"
   ]
  },
  {
   "cell_type": "markdown",
   "metadata": {},
   "source": [
    "### Cross Validation"
   ]
  },
  {
   "cell_type": "code",
   "execution_count": 47,
   "metadata": {
    "ExecuteTime": {
     "end_time": "2021-07-29T09:18:21.468857Z",
     "start_time": "2021-07-29T09:18:21.462026Z"
    }
   },
   "outputs": [],
   "source": [
    "from imblearn.pipeline import Pipeline as im_pipeline"
   ]
  },
  {
   "cell_type": "code",
   "execution_count": 48,
   "metadata": {
    "ExecuteTime": {
     "end_time": "2021-07-29T09:18:34.014334Z",
     "start_time": "2021-07-29T09:18:21.471247Z"
    }
   },
   "outputs": [],
   "source": [
    "models = [\n",
    "    LogisticRegression(solver='liblinear', random_state=2020), \n",
    "    KNeighborsClassifier(), \n",
    "    DecisionTreeClassifier(random_state=2020, max_depth=3),\n",
    "    RandomForestClassifier(n_estimators=20, max_depth=3, random_state=2020)\n",
    "]\n",
    "cv_score = []\n",
    "cv_mean = []\n",
    "cv_std = []\n",
    "\n",
    "for i in models:\n",
    "    skfold = StratifiedKFold(n_splits=5)\n",
    "    estimator= im_pipeline([\n",
    "        ('resampling', SMOTE(random_state=2020)),\n",
    "        ('model',i)\n",
    "    ])\n",
    "\n",
    "    model_cv = cross_val_score(estimator, x_train_preprocessed, y_train, cv=skfold, scoring='f1')\n",
    "    cv_score.append(model_cv)\n",
    "    cv_mean.append(model_cv.mean())\n",
    "    cv_std.append(model_cv.std())"
   ]
  },
  {
   "cell_type": "code",
   "execution_count": 49,
   "metadata": {
    "ExecuteTime": {
     "end_time": "2021-07-29T09:18:34.032887Z",
     "start_time": "2021-07-29T09:18:34.016412Z"
    }
   },
   "outputs": [
    {
     "data": {
      "text/html": [
       "<div>\n",
       "<style scoped>\n",
       "    .dataframe tbody tr th:only-of-type {\n",
       "        vertical-align: middle;\n",
       "    }\n",
       "\n",
       "    .dataframe tbody tr th {\n",
       "        vertical-align: top;\n",
       "    }\n",
       "\n",
       "    .dataframe thead th {\n",
       "        text-align: right;\n",
       "    }\n",
       "</style>\n",
       "<table border=\"1\" class=\"dataframe\">\n",
       "  <thead>\n",
       "    <tr style=\"text-align: right;\">\n",
       "      <th></th>\n",
       "      <th>model</th>\n",
       "      <th>score</th>\n",
       "      <th>mean</th>\n",
       "      <th>std</th>\n",
       "    </tr>\n",
       "  </thead>\n",
       "  <tbody>\n",
       "    <tr>\n",
       "      <th>0</th>\n",
       "      <td>logreg</td>\n",
       "      <td>[0.5364161849710983, 0.5514834205933683, 0.545...</td>\n",
       "      <td>0.542282</td>\n",
       "      <td>0.005633</td>\n",
       "    </tr>\n",
       "    <tr>\n",
       "      <th>1</th>\n",
       "      <td>knn</td>\n",
       "      <td>[0.4605329311211664, 0.4883040935672514, 0.491...</td>\n",
       "      <td>0.476641</td>\n",
       "      <td>0.014396</td>\n",
       "    </tr>\n",
       "    <tr>\n",
       "      <th>2</th>\n",
       "      <td>tree</td>\n",
       "      <td>[0.4789180588703262, 0.49443561208267095, 0.49...</td>\n",
       "      <td>0.492720</td>\n",
       "      <td>0.009696</td>\n",
       "    </tr>\n",
       "    <tr>\n",
       "      <th>3</th>\n",
       "      <td>rf</td>\n",
       "      <td>[0.5318302387267904, 0.5415512465373961, 0.556...</td>\n",
       "      <td>0.536054</td>\n",
       "      <td>0.011978</td>\n",
       "    </tr>\n",
       "  </tbody>\n",
       "</table>\n",
       "</div>"
      ],
      "text/plain": [
       "    model                                              score      mean  \\\n",
       "0  logreg  [0.5364161849710983, 0.5514834205933683, 0.545...  0.542282   \n",
       "1     knn  [0.4605329311211664, 0.4883040935672514, 0.491...  0.476641   \n",
       "2    tree  [0.4789180588703262, 0.49443561208267095, 0.49...  0.492720   \n",
       "3      rf  [0.5318302387267904, 0.5415512465373961, 0.556...  0.536054   \n",
       "\n",
       "        std  \n",
       "0  0.005633  \n",
       "1  0.014396  \n",
       "2  0.009696  \n",
       "3  0.011978  "
      ]
     },
     "execution_count": 49,
     "metadata": {},
     "output_type": "execute_result"
    }
   ],
   "source": [
    "pd.DataFrame({\n",
    "    'model': ['logreg', 'knn', 'tree', 'rf'],\n",
    "    'score': cv_score,\n",
    "    'mean': cv_mean,\n",
    "    'std': cv_std\n",
    "})"
   ]
  },
  {
   "cell_type": "markdown",
   "metadata": {},
   "source": [
    "> dari cross validation diatas, logreg memiliki rata-rata paling tinggi dan nilai std yang cukup stabil"
   ]
  },
  {
   "cell_type": "markdown",
   "metadata": {},
   "source": [
    "### Hyperparameter Tuning"
   ]
  },
  {
   "cell_type": "code",
   "execution_count": 50,
   "metadata": {
    "ExecuteTime": {
     "end_time": "2021-07-29T09:18:34.050502Z",
     "start_time": "2021-07-29T09:18:34.035602Z"
    }
   },
   "outputs": [],
   "source": [
    "logreg = LogisticRegression(solver='liblinear', random_state=2020)\n",
    "estimator= im_pipeline([\n",
    "    ('resampling', SMOTE(random_state=2020)),\n",
    "    ('model', logreg)\n",
    "])"
   ]
  },
  {
   "cell_type": "code",
   "execution_count": 51,
   "metadata": {
    "ExecuteTime": {
     "end_time": "2021-07-29T09:18:34.072540Z",
     "start_time": "2021-07-29T09:18:34.053825Z"
    }
   },
   "outputs": [],
   "source": [
    "#estimator.get_params()"
   ]
  },
  {
   "cell_type": "code",
   "execution_count": 52,
   "metadata": {
    "ExecuteTime": {
     "end_time": "2021-07-29T09:18:34.084705Z",
     "start_time": "2021-07-29T09:18:34.076934Z"
    }
   },
   "outputs": [
    {
     "data": {
      "text/plain": [
       "{'model__C': [1000, 100, 10, 1, 0.1, 0.01, 0.001],\n",
       " 'model__solver': ['liblinear', 'newton-cg'],\n",
       " 'model__max_iter': [50, 75, 100, 250, 500, 750]}"
      ]
     },
     "execution_count": 52,
     "metadata": {},
     "output_type": "execute_result"
    }
   ],
   "source": [
    "hyperparam_space"
   ]
  },
  {
   "cell_type": "code",
   "execution_count": 53,
   "metadata": {
    "ExecuteTime": {
     "end_time": "2021-07-29T09:18:34.092637Z",
     "start_time": "2021-07-29T09:18:34.087526Z"
    }
   },
   "outputs": [],
   "source": [
    "skfold = StratifiedKFold(n_splits=5)\n",
    "grid_search = GridSearchCV(\n",
    "    estimator,\n",
    "    param_grid = hyperparam_space,\n",
    "    cv = skfold,\n",
    "    scoring='f1',\n",
    "    n_jobs=-1\n",
    ")"
   ]
  },
  {
   "cell_type": "code",
   "execution_count": 54,
   "metadata": {
    "ExecuteTime": {
     "end_time": "2021-07-29T09:19:57.372556Z",
     "start_time": "2021-07-29T09:18:34.096253Z"
    }
   },
   "outputs": [
    {
     "data": {
      "text/plain": [
       "GridSearchCV(cv=StratifiedKFold(n_splits=5, random_state=None, shuffle=False),\n",
       "             estimator=Pipeline(steps=[('resampling', SMOTE(random_state=2020)),\n",
       "                                       ('model',\n",
       "                                        LogisticRegression(random_state=2020,\n",
       "                                                           solver='liblinear'))]),\n",
       "             n_jobs=-1,\n",
       "             param_grid={'model__C': [1000, 100, 10, 1, 0.1, 0.01, 0.001],\n",
       "                         'model__max_iter': [50, 75, 100, 250, 500, 750],\n",
       "                         'model__solver': ['liblinear', 'newton-cg']},\n",
       "             scoring='f1')"
      ]
     },
     "execution_count": 54,
     "metadata": {},
     "output_type": "execute_result"
    }
   ],
   "source": [
    "grid_search.fit(x_train_preprocessed, y_train)"
   ]
  },
  {
   "cell_type": "code",
   "execution_count": 55,
   "metadata": {
    "ExecuteTime": {
     "end_time": "2021-07-29T09:19:57.381593Z",
     "start_time": "2021-07-29T09:19:57.375272Z"
    }
   },
   "outputs": [
    {
     "name": "stdout",
     "output_type": "stream",
     "text": [
      "0.5422823791205603\n",
      "{'model__C': 1, 'model__max_iter': 50, 'model__solver': 'liblinear'}\n"
     ]
    }
   ],
   "source": [
    "print(grid_search.best_score_)\n",
    "print(grid_search.best_params_)"
   ]
  },
  {
   "cell_type": "markdown",
   "metadata": {},
   "source": [
    "## Before and After Hyperparameter Tuning"
   ]
  },
  {
   "cell_type": "code",
   "execution_count": 56,
   "metadata": {
    "ExecuteTime": {
     "end_time": "2021-07-29T09:19:58.057634Z",
     "start_time": "2021-07-29T09:19:57.385233Z"
    }
   },
   "outputs": [
    {
     "data": {
      "text/plain": [
       "Pipeline(steps=[('resampling', SMOTE(random_state=2020)),\n",
       "                ('model',\n",
       "                 LogisticRegression(random_state=2020, solver='liblinear'))])"
      ]
     },
     "execution_count": 56,
     "metadata": {},
     "output_type": "execute_result"
    }
   ],
   "source": [
    "# before tuning\n",
    "logreg = LogisticRegression(solver='liblinear', random_state=2020)\n",
    "estimator= im_pipeline([\n",
    "    ('resampling', SMOTE(random_state=2020)),\n",
    "    ('model', logreg)\n",
    "])\n",
    "estimator.fit(x_train_preprocessed, y_train)"
   ]
  },
  {
   "cell_type": "code",
   "execution_count": 57,
   "metadata": {
    "ExecuteTime": {
     "end_time": "2021-07-29T09:19:58.096645Z",
     "start_time": "2021-07-29T09:19:58.060651Z"
    }
   },
   "outputs": [
    {
     "name": "stdout",
     "output_type": "stream",
     "text": [
      "0.5392088827203331\n",
      "              precision    recall  f1-score   support\n",
      "\n",
      "         0.0       0.87      0.75      0.80      3596\n",
      "         1.0       0.46      0.65      0.54      1194\n",
      "\n",
      "    accuracy                           0.72      4790\n",
      "   macro avg       0.66      0.70      0.67      4790\n",
      "weighted avg       0.76      0.72      0.74      4790\n",
      "\n"
     ]
    }
   ],
   "source": [
    "y_pred_sm = estimator.predict(x_test_preprocessed)\n",
    "sm_f1_score = f1_score(y_test, y_pred_sm)\n",
    "sm_classification_report = classification_report(y_test, y_pred_sm)\n",
    "print(sm_f1_score)\n",
    "print(sm_classification_report)"
   ]
  },
  {
   "cell_type": "code",
   "execution_count": 58,
   "metadata": {
    "ExecuteTime": {
     "end_time": "2021-07-29T09:19:58.671736Z",
     "start_time": "2021-07-29T09:19:58.100485Z"
    }
   },
   "outputs": [
    {
     "data": {
      "text/plain": [
       "Pipeline(steps=[('resampling', SMOTE(random_state=2020)),\n",
       "                ('model',\n",
       "                 LogisticRegression(C=1, max_iter=50, random_state=2020,\n",
       "                                    solver='liblinear'))])"
      ]
     },
     "execution_count": 58,
     "metadata": {},
     "output_type": "execute_result"
    }
   ],
   "source": [
    "# after tuning\n",
    "best_model = grid_search.best_estimator_\n",
    "best_model.fit(x_train_preprocessed, y_train)"
   ]
  },
  {
   "cell_type": "code",
   "execution_count": 59,
   "metadata": {
    "ExecuteTime": {
     "end_time": "2021-07-29T09:19:58.707045Z",
     "start_time": "2021-07-29T09:19:58.674372Z"
    }
   },
   "outputs": [
    {
     "name": "stdout",
     "output_type": "stream",
     "text": [
      "0.5392088827203331\n",
      "              precision    recall  f1-score   support\n",
      "\n",
      "         0.0       0.87      0.75      0.80      3596\n",
      "         1.0       0.46      0.65      0.54      1194\n",
      "\n",
      "    accuracy                           0.72      4790\n",
      "   macro avg       0.66      0.70      0.67      4790\n",
      "weighted avg       0.76      0.72      0.74      4790\n",
      "\n"
     ]
    }
   ],
   "source": [
    "y_pred_sm_final = best_model.predict(x_test_preprocessed)\n",
    "smhs_f1_score = f1_score(y_test, y_pred_sm_final)\n",
    "smhs_classification_report = classification_report(y_test, y_pred_sm_final)\n",
    "print(smhs_f1_score)\n",
    "print(smhs_classification_report)"
   ]
  },
  {
   "cell_type": "markdown",
   "metadata": {},
   "source": [
    "> tidak ada peningkatan performa setelah hypertuning, karena model yang digunakan untuk benchmark sama dengan model dari hasil hyperparameter tuning"
   ]
  },
  {
   "cell_type": "markdown",
   "metadata": {},
   "source": [
    "# Comparing Model"
   ]
  },
  {
   "cell_type": "code",
   "execution_count": 60,
   "metadata": {
    "ExecuteTime": {
     "end_time": "2021-07-29T09:19:58.723328Z",
     "start_time": "2021-07-29T09:19:58.709314Z"
    }
   },
   "outputs": [
    {
     "data": {
      "text/html": [
       "<div>\n",
       "<style scoped>\n",
       "    .dataframe tbody tr th:only-of-type {\n",
       "        vertical-align: middle;\n",
       "    }\n",
       "\n",
       "    .dataframe tbody tr th {\n",
       "        vertical-align: top;\n",
       "    }\n",
       "\n",
       "    .dataframe thead th {\n",
       "        text-align: right;\n",
       "    }\n",
       "</style>\n",
       "<table border=\"1\" class=\"dataframe\">\n",
       "  <thead>\n",
       "    <tr style=\"text-align: right;\">\n",
       "      <th></th>\n",
       "      <th>model</th>\n",
       "      <th>F1 Score</th>\n",
       "    </tr>\n",
       "  </thead>\n",
       "  <tbody>\n",
       "    <tr>\n",
       "      <th>0</th>\n",
       "      <td>Log Regression with class_weight</td>\n",
       "      <td>0.537868</td>\n",
       "    </tr>\n",
       "    <tr>\n",
       "      <th>1</th>\n",
       "      <td>Log Regression with class_weight &amp; hyperparam tuning</td>\n",
       "      <td>0.539192</td>\n",
       "    </tr>\n",
       "    <tr>\n",
       "      <th>2</th>\n",
       "      <td>Log Regression with smote</td>\n",
       "      <td>0.539209</td>\n",
       "    </tr>\n",
       "    <tr>\n",
       "      <th>3</th>\n",
       "      <td>Log Regression with smote &amp; hyperparam tuning</td>\n",
       "      <td>0.539209</td>\n",
       "    </tr>\n",
       "  </tbody>\n",
       "</table>\n",
       "</div>"
      ],
      "text/plain": [
       "                                                  model  F1 Score\n",
       "0                      Log Regression with class_weight  0.537868\n",
       "1  Log Regression with class_weight & hyperparam tuning  0.539192\n",
       "2                             Log Regression with smote  0.539209\n",
       "3         Log Regression with smote & hyperparam tuning  0.539209"
      ]
     },
     "execution_count": 60,
     "metadata": {},
     "output_type": "execute_result"
    }
   ],
   "source": [
    "pd.options.display.max_colwidth = None\n",
    "pd.DataFrame({\n",
    "    'model': [\n",
    "        'Log Regression with class_weight', \n",
    "        'Log Regression with class_weight & hyperparam tuning',\n",
    "        'Log Regression with smote', \n",
    "        'Log Regression with smote & hyperparam tuning',\n",
    "    ],\n",
    "    'F1 Score': [cw_f1_score, cwhs_f1_score, sm_f1_score, smhs_f1_score]\n",
    "})"
   ]
  },
  {
   "cell_type": "markdown",
   "metadata": {},
   "source": [
    "> dari tabel diatas, dapat kita lihat bahwa Log Regression menggunakan SMOTE memiliki performa yang lebih tinggi walaupun tidak signifikan dibandingkan dengan Log Regression dengan menggunakan param class_weight"
   ]
  },
  {
   "cell_type": "code",
   "execution_count": null,
   "metadata": {},
   "outputs": [],
   "source": []
  }
 ],
 "metadata": {
  "kernelspec": {
   "display_name": "Python 3",
   "language": "python",
   "name": "python3"
  },
  "language_info": {
   "codemirror_mode": {
    "name": "ipython",
    "version": 3
   },
   "file_extension": ".py",
   "mimetype": "text/x-python",
   "name": "python",
   "nbconvert_exporter": "python",
   "pygments_lexer": "ipython3",
   "version": "3.8.5"
  },
  "toc": {
   "base_numbering": 1,
   "nav_menu": {},
   "number_sections": true,
   "sideBar": true,
   "skip_h1_title": false,
   "title_cell": "Table of Contents",
   "title_sidebar": "Contents",
   "toc_cell": false,
   "toc_position": {},
   "toc_section_display": true,
   "toc_window_display": false
  }
 },
 "nbformat": 4,
 "nbformat_minor": 4
}
