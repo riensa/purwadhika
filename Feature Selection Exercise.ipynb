{
 "cells": [
  {
   "cell_type": "markdown",
   "metadata": {},
   "source": [
    "target: 'Best Performance'  \n",
    "split 70-30, random state: 2020\n",
    "\n",
    "1. Bersihkan data  \n",
    "2. Buat analisa singkat hubungan antara fitur dan target \n",
    "3. Buat skema preprosessing   \n",
    "4. Pilih fitur menggunakan  :\n",
    "    * univariate statistics\n",
    "    * iterative feature selection  \n",
    "\n",
    "Gunakan model:  \n",
    "* Decision Tree Classifier\n",
    "* Logistic Regression\n",
    "\n",
    "Bandingkan performa model dan fitur yang terpilih."
   ]
  },
  {
   "cell_type": "code",
   "execution_count": 434,
   "metadata": {},
   "outputs": [],
   "source": [
    "import pandas as pd\n",
    "import numpy as np"
   ]
  },
  {
   "cell_type": "markdown",
   "metadata": {},
   "source": [
    "# Dataset"
   ]
  },
  {
   "cell_type": "code",
   "execution_count": 435,
   "metadata": {},
   "outputs": [
    {
     "data": {
      "text/html": [
       "<div>\n",
       "<style scoped>\n",
       "    .dataframe tbody tr th:only-of-type {\n",
       "        vertical-align: middle;\n",
       "    }\n",
       "\n",
       "    .dataframe tbody tr th {\n",
       "        vertical-align: top;\n",
       "    }\n",
       "\n",
       "    .dataframe thead th {\n",
       "        text-align: right;\n",
       "    }\n",
       "</style>\n",
       "<table border=\"1\" class=\"dataframe\">\n",
       "  <thead>\n",
       "    <tr style=\"text-align: right;\">\n",
       "      <th></th>\n",
       "      <th>job_level</th>\n",
       "      <th>job_duration_in_current_job_level</th>\n",
       "      <th>person_level</th>\n",
       "      <th>job_duration_in_current_person_level</th>\n",
       "      <th>job_duration_in_current_branch</th>\n",
       "      <th>Employee_type</th>\n",
       "      <th>Employee_status</th>\n",
       "      <th>gender</th>\n",
       "      <th>age</th>\n",
       "      <th>marital_status_maried(Y/N)</th>\n",
       "      <th>...</th>\n",
       "      <th>assign_of_otherposition</th>\n",
       "      <th>annual leave</th>\n",
       "      <th>sick_leaves</th>\n",
       "      <th>Best Performance</th>\n",
       "      <th>Avg_achievement_%</th>\n",
       "      <th>Last_achievement_%</th>\n",
       "      <th>Achievement_above_100%_during3quartal</th>\n",
       "      <th>achievement_target_1</th>\n",
       "      <th>achievement_target_2</th>\n",
       "      <th>achievement_target_3</th>\n",
       "    </tr>\n",
       "  </thead>\n",
       "  <tbody>\n",
       "    <tr>\n",
       "      <th>0</th>\n",
       "      <td>JG05</td>\n",
       "      <td>8.00</td>\n",
       "      <td>PG06</td>\n",
       "      <td>8.00</td>\n",
       "      <td>0.50</td>\n",
       "      <td>RM_type_A</td>\n",
       "      <td>Permanent</td>\n",
       "      <td>Female</td>\n",
       "      <td>1964</td>\n",
       "      <td>Y</td>\n",
       "      <td>...</td>\n",
       "      <td>0</td>\n",
       "      <td>8</td>\n",
       "      <td>0</td>\n",
       "      <td>0</td>\n",
       "      <td>68.85</td>\n",
       "      <td>72.53</td>\n",
       "      <td>0.0</td>\n",
       "      <td>achiev_50%-100%</td>\n",
       "      <td>achiev_&lt; 50%</td>\n",
       "      <td>reached</td>\n",
       "    </tr>\n",
       "    <tr>\n",
       "      <th>1</th>\n",
       "      <td>JG04</td>\n",
       "      <td>5.17</td>\n",
       "      <td>PG04</td>\n",
       "      <td>2.00</td>\n",
       "      <td>1.25</td>\n",
       "      <td>RM_type_A</td>\n",
       "      <td>Permanent</td>\n",
       "      <td>Male</td>\n",
       "      <td>1979</td>\n",
       "      <td>Y</td>\n",
       "      <td>...</td>\n",
       "      <td>9</td>\n",
       "      <td>3</td>\n",
       "      <td>0</td>\n",
       "      <td>0</td>\n",
       "      <td>94.81</td>\n",
       "      <td>101.13</td>\n",
       "      <td>3.0</td>\n",
       "      <td>achiev_50%-100%</td>\n",
       "      <td>achiev_50%-100%</td>\n",
       "      <td>reached</td>\n",
       "    </tr>\n",
       "    <tr>\n",
       "      <th>2</th>\n",
       "      <td>JG04</td>\n",
       "      <td>1.83</td>\n",
       "      <td>PG03</td>\n",
       "      <td>1.83</td>\n",
       "      <td>1.50</td>\n",
       "      <td>RM_type_A</td>\n",
       "      <td>Permanent</td>\n",
       "      <td>Male</td>\n",
       "      <td>1980</td>\n",
       "      <td>Y</td>\n",
       "      <td>...</td>\n",
       "      <td>0</td>\n",
       "      <td>6</td>\n",
       "      <td>0</td>\n",
       "      <td>0</td>\n",
       "      <td>72.82</td>\n",
       "      <td>71.30</td>\n",
       "      <td>0.0</td>\n",
       "      <td>achiev_100%-150%</td>\n",
       "      <td>achiev_&lt; 50%</td>\n",
       "      <td>not_reached</td>\n",
       "    </tr>\n",
       "    <tr>\n",
       "      <th>3</th>\n",
       "      <td>JG04</td>\n",
       "      <td>7.92</td>\n",
       "      <td>PG04</td>\n",
       "      <td>4.00</td>\n",
       "      <td>0.17</td>\n",
       "      <td>RM_type_A</td>\n",
       "      <td>Permanent</td>\n",
       "      <td>Male</td>\n",
       "      <td>1984</td>\n",
       "      <td>Y</td>\n",
       "      <td>...</td>\n",
       "      <td>0</td>\n",
       "      <td>3</td>\n",
       "      <td>0</td>\n",
       "      <td>0</td>\n",
       "      <td>86.89</td>\n",
       "      <td>90.09</td>\n",
       "      <td>2.0</td>\n",
       "      <td>achiev_50%-100%</td>\n",
       "      <td>achiev_50%-100%</td>\n",
       "      <td>not_reached</td>\n",
       "    </tr>\n",
       "    <tr>\n",
       "      <th>4</th>\n",
       "      <td>JG04</td>\n",
       "      <td>1.83</td>\n",
       "      <td>PG03</td>\n",
       "      <td>1.83</td>\n",
       "      <td>2.08</td>\n",
       "      <td>RM_type_A</td>\n",
       "      <td>Permanent</td>\n",
       "      <td>Male</td>\n",
       "      <td>1984</td>\n",
       "      <td>Y</td>\n",
       "      <td>...</td>\n",
       "      <td>11</td>\n",
       "      <td>2</td>\n",
       "      <td>1</td>\n",
       "      <td>1</td>\n",
       "      <td>95.17</td>\n",
       "      <td>100.72</td>\n",
       "      <td>2.0</td>\n",
       "      <td>achiev_&lt; 50%</td>\n",
       "      <td>achiev_&gt; 1.5</td>\n",
       "      <td>not_reached</td>\n",
       "    </tr>\n",
       "  </tbody>\n",
       "</table>\n",
       "<p>5 rows × 30 columns</p>\n",
       "</div>"
      ],
      "text/plain": [
       "  job_level  job_duration_in_current_job_level person_level  \\\n",
       "0      JG05                               8.00         PG06   \n",
       "1      JG04                               5.17         PG04   \n",
       "2      JG04                               1.83         PG03   \n",
       "3      JG04                               7.92         PG04   \n",
       "4      JG04                               1.83         PG03   \n",
       "\n",
       "   job_duration_in_current_person_level  job_duration_in_current_branch  \\\n",
       "0                                  8.00                            0.50   \n",
       "1                                  2.00                            1.25   \n",
       "2                                  1.83                            1.50   \n",
       "3                                  4.00                            0.17   \n",
       "4                                  1.83                            2.08   \n",
       "\n",
       "  Employee_type Employee_status  gender   age marital_status_maried(Y/N)  ...  \\\n",
       "0     RM_type_A       Permanent  Female  1964                          Y  ...   \n",
       "1     RM_type_A       Permanent    Male  1979                          Y  ...   \n",
       "2     RM_type_A       Permanent    Male  1980                          Y  ...   \n",
       "3     RM_type_A       Permanent    Male  1984                          Y  ...   \n",
       "4     RM_type_A       Permanent    Male  1984                          Y  ...   \n",
       "\n",
       "   assign_of_otherposition  annual leave  sick_leaves Best Performance  \\\n",
       "0                        0             8            0                0   \n",
       "1                        9             3            0                0   \n",
       "2                        0             6            0                0   \n",
       "3                        0             3            0                0   \n",
       "4                       11             2            1                1   \n",
       "\n",
       "   Avg_achievement_% Last_achievement_%  \\\n",
       "0              68.85              72.53   \n",
       "1              94.81             101.13   \n",
       "2              72.82              71.30   \n",
       "3              86.89              90.09   \n",
       "4              95.17             100.72   \n",
       "\n",
       "   Achievement_above_100%_during3quartal  achievement_target_1  \\\n",
       "0                                    0.0       achiev_50%-100%   \n",
       "1                                    3.0       achiev_50%-100%   \n",
       "2                                    0.0      achiev_100%-150%   \n",
       "3                                    2.0       achiev_50%-100%   \n",
       "4                                    2.0          achiev_< 50%   \n",
       "\n",
       "   achievement_target_2  achievement_target_3  \n",
       "0          achiev_< 50%               reached  \n",
       "1       achiev_50%-100%               reached  \n",
       "2          achiev_< 50%           not_reached  \n",
       "3       achiev_50%-100%           not_reached  \n",
       "4          achiev_> 1.5           not_reached  \n",
       "\n",
       "[5 rows x 30 columns]"
      ]
     },
     "execution_count": 435,
     "metadata": {},
     "output_type": "execute_result"
    }
   ],
   "source": [
    "df = pd.read_csv('BRI.csv')\n",
    "df.head()"
   ]
  },
  {
   "cell_type": "code",
   "execution_count": 436,
   "metadata": {},
   "outputs": [
    {
     "name": "stdout",
     "output_type": "stream",
     "text": [
      "<class 'pandas.core.frame.DataFrame'>\n",
      "RangeIndex: 22005 entries, 0 to 22004\n",
      "Data columns (total 30 columns):\n",
      " #   Column                                 Non-Null Count  Dtype  \n",
      "---  ------                                 --------------  -----  \n",
      " 0   job_level                              22005 non-null  object \n",
      " 1   job_duration_in_current_job_level      22005 non-null  float64\n",
      " 2   person_level                           22005 non-null  object \n",
      " 3   job_duration_in_current_person_level   22005 non-null  float64\n",
      " 4   job_duration_in_current_branch         22005 non-null  float64\n",
      " 5   Employee_type                          21993 non-null  object \n",
      " 6   Employee_status                        22005 non-null  object \n",
      " 7   gender                                 22005 non-null  object \n",
      " 8   age                                    22005 non-null  int64  \n",
      " 9   marital_status_maried(Y/N)             22005 non-null  object \n",
      " 10  number_of_dependences                  22005 non-null  int64  \n",
      " 11  number_of_dependences (male)           22005 non-null  int64  \n",
      " 12  number_of_dependences (female)         22005 non-null  int64  \n",
      " 13  Education_level                        18397 non-null  object \n",
      " 14  GPA                                    18502 non-null  float64\n",
      " 15  year_graduated                         18502 non-null  object \n",
      " 16  job_duration_as_permanent_worker       19950 non-null  float64\n",
      " 17  job_duration_from_training             22005 non-null  int64  \n",
      " 18  branch_rotation                        22005 non-null  int64  \n",
      " 19  job_rotation                           22005 non-null  int64  \n",
      " 20  assign_of_otherposition                22005 non-null  int64  \n",
      " 21  annual leave                           22005 non-null  int64  \n",
      " 22  sick_leaves                            22005 non-null  int64  \n",
      " 23  Best Performance                       22005 non-null  int64  \n",
      " 24  Avg_achievement_%                      15716 non-null  float64\n",
      " 25  Last_achievement_%                     15703 non-null  float64\n",
      " 26  Achievement_above_100%_during3quartal  15703 non-null  float64\n",
      " 27  achievement_target_1                   15278 non-null  object \n",
      " 28  achievement_target_2                   15278 non-null  object \n",
      " 29  achievement_target_3                   15278 non-null  object \n",
      "dtypes: float64(8), int64(11), object(11)\n",
      "memory usage: 5.0+ MB\n"
     ]
    }
   ],
   "source": [
    "df.info()"
   ]
  },
  {
   "cell_type": "markdown",
   "metadata": {},
   "source": [
    "# Data Cleaning"
   ]
  },
  {
   "cell_type": "code",
   "execution_count": 437,
   "metadata": {},
   "outputs": [
    {
     "name": "stdout",
     "output_type": "stream",
     "text": [
      "job_level : ['JG05' 'JG04' 'JG03' 'JG06']\n",
      "person_level : ['PG06' 'PG04' 'PG03' 'PG05' 'PG01' 'PG02' 'PG07' 'PG08']\n",
      "Employee_type : ['RM_type_A' 'RM_type_C' 'RM_type_B' nan]\n",
      "Employee_status : ['Permanent' 'Contract']\n",
      "gender : ['Female' 'Male']\n",
      "marital_status_maried(Y/N) : ['Y' 'N']\n",
      "Education_level : ['level_4' 'level_5' 'level_3' nan 'level_1' 'level_2' 'level_0']\n",
      "year_graduated : ['1987' '2001' '2007' '2006' nan '2008' '2011' '2010' '2013' '2014' '\\\\N'\n",
      " '1996' '2009' '2005' '2012' '1989' '1992' '0' '2000' '1994' '1997' '1993'\n",
      " '1995' '2004' '2015' '1986' '1999' '2003' '2016' '2044' '2018' '1991'\n",
      " '2002' '2017' '2201' '1998' '1990' '9999' '1984' '2020' '1988' '1983'\n",
      " '1985' '201' '2019' '2031' '____' '3016' '-' '2200' '102' '2999' '9464']\n",
      "achievement_target_1 : ['achiev_50%-100%' 'achiev_100%-150%' 'achiev_< 50%' 'achiev_> 1.5' nan\n",
      " 'Tidak diberikan target' 'Pencapaian 50%-100%' 'Pencapaian 100%-150%'\n",
      " 'Pencapaian < 50%' 'Pencapaian > 1.5']\n",
      "achievement_target_2 : ['achiev_< 50%' 'achiev_50%-100%' 'achiev_> 1.5' 'achiev_100%-150%' nan\n",
      " 'Tidak diberikan target' 'Pencapaian 100%-150%' 'Pencapaian < 50%'\n",
      " 'Pencapaian 50%-100%' 'Pencapaian > 1.5']\n",
      "achievement_target_3 : ['reached' 'not_reached' nan 'not reached']\n"
     ]
    }
   ],
   "source": [
    "for i in df.columns[df.dtypes==object]:\n",
    "    print(f\"{i} : {df[i].unique()}\")"
   ]
  },
  {
   "cell_type": "code",
   "execution_count": 438,
   "metadata": {},
   "outputs": [],
   "source": [
    "import re"
   ]
  },
  {
   "cell_type": "code",
   "execution_count": 439,
   "metadata": {},
   "outputs": [
    {
     "data": {
      "text/plain": [
       "array([1987., 2001., 2007., 2006.,   nan, 2008., 2011., 2010., 2013.,\n",
       "       2014., 1996., 2009., 2005., 2012., 1989., 1992., 2000., 1994.,\n",
       "       1997., 1993., 1995., 2004., 2015., 1986., 1999., 2003., 2016.,\n",
       "       2044., 2018., 1991., 2002., 2017., 2201., 1998., 1990., 9999.,\n",
       "       1984., 2020., 1988., 1983., 1985., 2019., 2031., 3016., 2200.,\n",
       "       2999., 9464.])"
      ]
     },
     "execution_count": 439,
     "metadata": {},
     "output_type": "execute_result"
    }
   ],
   "source": [
    "# year_graduated : replace data yang tidak memiliki format tahun menjadi nan\n",
    "\n",
    "df['year_graduated'] = df['year_graduated'].apply(lambda year: int(year) if year is not np.nan and re.search(r'^\\d{4}$', year) else np.nan )\n",
    "df['year_graduated'].unique()"
   ]
  },
  {
   "cell_type": "code",
   "execution_count": 440,
   "metadata": {},
   "outputs": [
    {
     "data": {
      "text/plain": [
       "array(['achiev_50%-100%', 'achiev_100%-150%', 'achiev_< 50%',\n",
       "       'achiev_> 1.5', nan, 'Tidak diberikan target'], dtype=object)"
      ]
     },
     "execution_count": 440,
     "metadata": {},
     "output_type": "execute_result"
    }
   ],
   "source": [
    "# achievement_target_1 : replace 'Tidak diberikan target' menjadi nan & 'Pencapaian ' menjadi 'achiev_'\n",
    "\n",
    "def replaceAchievementName(x):\n",
    "    if x is np.nan:\n",
    "        return np.nan\n",
    "    name = x.replace(\"Pencapaian \", \"achiev_\")\n",
    "    return name\n",
    "\n",
    "df['achievement_target_1'] = df['achievement_target_1'].apply(replaceAchievementName)\n",
    "df['achievement_target_1'].unique()"
   ]
  },
  {
   "cell_type": "code",
   "execution_count": 441,
   "metadata": {},
   "outputs": [
    {
     "data": {
      "text/plain": [
       "array(['achiev_< 50%', 'achiev_50%-100%', 'achiev_> 1.5',\n",
       "       'achiev_100%-150%', nan, 'Tidak diberikan target'], dtype=object)"
      ]
     },
     "execution_count": 441,
     "metadata": {},
     "output_type": "execute_result"
    }
   ],
   "source": [
    "# achievement_target_2 : replace 'Tidak diberikan target' menjadi nan & 'Pencapaian ' menjadi 'achiev_'\n",
    "df['achievement_target_2'] = df['achievement_target_2'].apply(replaceAchievementName)\n",
    "df['achievement_target_2'].unique()"
   ]
  },
  {
   "cell_type": "code",
   "execution_count": 442,
   "metadata": {},
   "outputs": [
    {
     "data": {
      "text/plain": [
       "array(['reached', 'not reached', nan], dtype=object)"
      ]
     },
     "execution_count": 442,
     "metadata": {},
     "output_type": "execute_result"
    }
   ],
   "source": [
    "# achievement_target_3 : replace 'not_reached' menjadi not reached\n",
    "df['achievement_target_3'] = np.where(df['achievement_target_3'] == 'not_reached', 'not reached', df['achievement_target_3'])\n",
    "df['achievement_target_3'].unique()"
   ]
  },
  {
   "cell_type": "markdown",
   "metadata": {},
   "source": [
    "# Analysis Data"
   ]
  },
  {
   "cell_type": "code",
   "execution_count": 443,
   "metadata": {},
   "outputs": [
    {
     "data": {
      "text/plain": [
       "job_level                                 0.000000\n",
       "job_duration_in_current_job_level         0.000000\n",
       "person_level                              0.000000\n",
       "job_duration_in_current_person_level      0.000000\n",
       "job_duration_in_current_branch            0.000000\n",
       "Employee_type                             0.054533\n",
       "Employee_status                           0.000000\n",
       "gender                                    0.000000\n",
       "age                                       0.000000\n",
       "marital_status_maried(Y/N)                0.000000\n",
       "number_of_dependences                     0.000000\n",
       "number_of_dependences (male)              0.000000\n",
       "number_of_dependences (female)            0.000000\n",
       "Education_level                          16.396274\n",
       "GPA                                      15.919109\n",
       "year_graduated                           18.354919\n",
       "job_duration_as_permanent_worker          9.338787\n",
       "job_duration_from_training                0.000000\n",
       "branch_rotation                           0.000000\n",
       "job_rotation                              0.000000\n",
       "assign_of_otherposition                   0.000000\n",
       "annual leave                              0.000000\n",
       "sick_leaves                               0.000000\n",
       "Best Performance                          0.000000\n",
       "Avg_achievement_%                        28.579868\n",
       "Last_achievement_%                       28.638946\n",
       "Achievement_above_100%_during3quartal    28.638946\n",
       "achievement_target_1                     30.570325\n",
       "achievement_target_2                     30.570325\n",
       "achievement_target_3                     30.570325\n",
       "dtype: float64"
      ]
     },
     "execution_count": 443,
     "metadata": {},
     "output_type": "execute_result"
    }
   ],
   "source": [
    "# Missing Value\n",
    "df.isna().sum()/df.shape[0]*100"
   ]
  },
  {
   "cell_type": "code",
   "execution_count": 444,
   "metadata": {},
   "outputs": [],
   "source": [
    "import seaborn as sns\n",
    "import matplotlib.pyplot as plt"
   ]
  },
  {
   "cell_type": "code",
   "execution_count": 445,
   "metadata": {},
   "outputs": [
    {
     "data": {
      "image/png": "[encoded data removed]",
      "text/plain": [
       "<Figure size 432x432 with 1 Axes>"
      ]
     },
     "metadata": {
      "needs_background": "light"
     },
     "output_type": "display_data"
    }
   ],
   "source": [
    "plt.figure(figsize=(6,6))\n",
    "sns.histplot(df['job_duration_in_current_job_level'])\n",
    "plt.show()"
   ]
  },
  {
   "cell_type": "code",
   "execution_count": 446,
   "metadata": {},
   "outputs": [
    {
     "data": {
      "image/png": "[encoded data removed]",
      "text/plain": [
       "<Figure size 1080x720 with 2 Axes>"
      ]
     },
     "metadata": {
      "needs_background": "light"
     },
     "output_type": "display_data"
    }
   ],
   "source": [
    "# correlation between numeric data\n",
    "korelasi = df.corr(method='spearman')\n",
    "plt.figure(figsize=(15,10))\n",
    "sns.heatmap(korelasi, # dataset\n",
    "            mask=np.triu(np.ones_like(korelasi, dtype=bool)), # If passed, data will not be shown in cells where mask is True. \n",
    "                        # Cells with missing values are automatically masked.\n",
    "            cmap=sns.diverging_palette(220, 13, as_cmap=True), # The mapping from data values to color space.\n",
    "            center=0, # The value at which to center the colormap when plotting divergant data\n",
    "            square=True, # true = create square shaped\n",
    "            vmin=-1,\n",
    "            vmax=1,\n",
    "            annot=True,\n",
    "            linewidths=.5, # Width of the lines that will divide each cell\n",
    ") \n",
    "plt.show()"
   ]
  },
  {
   "cell_type": "code",
   "execution_count": 447,
   "metadata": {},
   "outputs": [],
   "source": [
    "from scipy.stats import chi2_contingency"
   ]
  },
  {
   "cell_type": "code",
   "execution_count": 448,
   "metadata": {},
   "outputs": [
    {
     "name": "stdout",
     "output_type": "stream",
     "text": [
      "Ada keterkaitan antara job_level dan Best Performance\n",
      "Ada keterkaitan antara person_level dan Best Performance\n",
      "Ada keterkaitan antara Employee_type dan Best Performance\n",
      "Ada keterkaitan antara Employee_status dan Best Performance\n",
      "Tidak Ada keterkaitan antara gender dan Best Performance\n",
      "Ada keterkaitan antara marital_status_maried(Y/N) dan Best Performance\n",
      "Tidak Ada keterkaitan antara Education_level dan Best Performance\n",
      "Tidak Ada keterkaitan antara achievement_target_1 dan Best Performance\n",
      "Tidak Ada keterkaitan antara achievement_target_2 dan Best Performance\n",
      "Ada keterkaitan antara achievement_target_3 dan Best Performance\n"
     ]
    }
   ],
   "source": [
    "# correlation between categorical data\n",
    "for i in df.columns[df.dtypes==object]:\n",
    "    df_count = pd.crosstab(df[i], df['Best Performance'])\n",
    "    stats, pval, dof, expected = chi2_contingency(df_count)\n",
    "    if pval <= 0.05:\n",
    "        print(f'Ada keterkaitan antara {i} dan Best Performance')\n",
    "    else:\n",
    "        print(f'Tidak Ada keterkaitan antara {i} dan Best Performance')"
   ]
  },
  {
   "cell_type": "markdown",
   "metadata": {},
   "source": [
    "# Preprocessing"
   ]
  },
  {
   "cell_type": "code",
   "execution_count": 449,
   "metadata": {},
   "outputs": [
    {
     "name": "stdout",
     "output_type": "stream",
     "text": [
      "job_duration_in_current_job_level : 0.014042263122017722%\n",
      "job_duration_in_current_person_level : 0.013224267211997274%\n",
      "job_duration_in_current_branch : 0.009088843444671665%\n",
      "age : 18.06862076800727%\n",
      "number_of_dependences : 0.0045444217223358325%\n",
      "number_of_dependences (male) : 0.0045444217223358325%\n",
      "number_of_dependences (female) : 0.0045444217223358325%\n",
      "GPA : 0.03302345692357583%\n",
      "year_graduated : 22.386730490927306%\n",
      "job_duration_as_permanent_worker : 0.045112781954887216%\n",
      "job_duration_from_training : 0.03181095205635083%\n",
      "branch_rotation : 0.022722108611679163%\n",
      "job_rotation : 0.022722108611679163%\n",
      "assign_of_otherposition : 0.0%\n",
      "annual leave : 0.022722108611679163%\n",
      "sick_leaves : 0.0045444217223358325%\n",
      "Best Performance : 0.0%\n",
      "Avg_achievement_% : 0.8501261983541191%\n",
      "Last_achievement_% : 0.918837164872954%\n",
      "Achievement_above_100%_during3quartal : 0.006368209896198179%\n"
     ]
    }
   ],
   "source": [
    "# outlier\n",
    "for i in df.columns[df.dtypes!=object]:\n",
    "    q1 = df[i].quantile(.25)\n",
    "    q3 = df[i].quantile(.75)\n",
    "    iqr = q3 - q1\n",
    "    b_bawah = (q1-1.5*iqr).sum()\n",
    "    b_atas = (q3+1.5*iqr).sum()\n",
    "    \n",
    "    outlier = (b_bawah + b_atas)/df[i].count()*100\n",
    "    print(f'{i} : {outlier}%')"
   ]
  },
  {
   "cell_type": "code",
   "execution_count": 450,
   "metadata": {},
   "outputs": [],
   "source": [
    "from sklearn.pipeline import Pipeline\n",
    "from sklearn.experimental import enable_iterative_imputer\n",
    "from sklearn.impute import SimpleImputer,IterativeImputer,KNNImputer\n",
    "from sklearn.preprocessing import RobustScaler,OneHotEncoder\n",
    "import category_encoders as ce\n",
    "from sklearn.compose import ColumnTransformer"
   ]
  },
  {
   "cell_type": "code",
   "execution_count": 451,
   "metadata": {},
   "outputs": [],
   "source": [
    "# simple imputer modus & one hot encoder : Employee_type,Employee_status,gender,marital_status_maried(Y/N)\n",
    "onehot_pipeline = Pipeline([\n",
    "    ('imputer modus', SimpleImputer(strategy='most_frequent')),\n",
    "    ('one hot', OneHotEncoder(drop='first'))\n",
    "])"
   ]
  },
  {
   "cell_type": "code",
   "execution_count": 452,
   "metadata": {},
   "outputs": [],
   "source": [
    "# simple imputer constant + binary : achievement_target_1,achievement_target_2,achievement_target_3   \n",
    "constant_binary_pipeline = Pipeline([\n",
    "    ('imputer binary', SimpleImputer(strategy='constant', fill_value='N')),\n",
    "    ('binary constant', ce.BinaryEncoder())\n",
    "])"
   ]
  },
  {
   "cell_type": "code",
   "execution_count": 453,
   "metadata": {},
   "outputs": [],
   "source": [
    "#ordinal encoding : Education_level, job_level, person_level\n",
    "ordinal_mapping = [\n",
    "    {\n",
    "        'col': 'Education_level',\n",
    "        'mapping': {None:0, 'level_0':1, 'level_1': 2, 'level_2':3, 'level_3':4, 'level_4':5, 'level_5': 6}\n",
    "    },\n",
    "    {\n",
    "        'col': 'job_level',\n",
    "        'mapping': {None:0, 'JG03':1, 'JG04': 2, 'JG05':3, 'JG06':4}\n",
    "    },\n",
    "    {\n",
    "        'col': 'person_level',\n",
    "        'mapping': {None:0, 'PG01':1, 'PG02': 2, 'PG03':3, 'PG04':4, 'PG05':5, 'PG06': 6, 'PG07':7, 'PG08':8}\n",
    "    }\n",
    "    \n",
    "]"
   ]
  },
  {
   "cell_type": "code",
   "execution_count": 454,
   "metadata": {},
   "outputs": [],
   "source": [
    "# iterative imputer & robust scaler: age, year_graduated\n",
    "robust_pipeline = Pipeline([\n",
    "    ('iterative', IterativeImputer(max_iter=500, random_state=0)),\n",
    "    ('robust', RobustScaler())\n",
    "])"
   ]
  },
  {
   "cell_type": "code",
   "execution_count": 455,
   "metadata": {},
   "outputs": [],
   "source": [
    "robust_features = ['age', 'year_graduated']\n",
    "iterative_features = ['GPA','job_duration_as_permanent_worker','Avg_achievement_%','Last_achievement_%','Achievement_above_100%_during3quartal']\n"
   ]
  },
  {
   "cell_type": "code",
   "execution_count": 459,
   "metadata": {},
   "outputs": [],
   "source": [
    "transformer = ColumnTransformer([\n",
    "    ('onehot_pipeline', onehot_pipeline, ['Employee_type','Employee_status','gender','marital_status_maried(Y/N)']),\n",
    "    ('constant_binary_pipeline', constant_binary_pipeline, ['achievement_target_1','achievement_target_2','achievement_target_3']),\n",
    "    ('ordinal_pipeline', ce.OrdinalEncoder(mapping=ordinal_mapping), ['Education_level', 'job_level', 'person_level']),\n",
    "    ('robust_pipeline', robust_pipeline, robust_features),\n",
    "    ('iterative_imputer', IterativeImputer(max_iter=500, random_state=0), iterative_features)\n",
    "], remainder='passthrough')"
   ]
  },
  {
   "cell_type": "markdown",
   "metadata": {},
   "source": [
    "# Data Splitting"
   ]
  },
  {
   "cell_type": "code",
   "execution_count": 460,
   "metadata": {},
   "outputs": [],
   "source": [
    "from sklearn.model_selection import train_test_split"
   ]
  },
  {
   "cell_type": "code",
   "execution_count": 461,
   "metadata": {},
   "outputs": [],
   "source": [
    "x = df.drop(columns=['Best Performance'])\n",
    "y = df['Best Performance']"
   ]
  },
  {
   "cell_type": "code",
   "execution_count": 462,
   "metadata": {},
   "outputs": [],
   "source": [
    "x_train, x_test, y_train, y_test = train_test_split(\n",
    "    x,\n",
    "    y,\n",
    "    stratify=y,\n",
    "    test_size=0.3, # nilai default : 0.3\n",
    "    random_state=2020\n",
    ")"
   ]
  },
  {
   "cell_type": "markdown",
   "metadata": {},
   "source": [
    "# Data Transformation"
   ]
  },
  {
   "cell_type": "code",
   "execution_count": 463,
   "metadata": {},
   "outputs": [
    {
     "name": "stderr",
     "output_type": "stream",
     "text": [
      "/opt/anaconda3/lib/python3.8/site-packages/category_encoders/utils.py:21: FutureWarning: is_categorical is deprecated and will be removed in a future version.  Use is_categorical_dtype instead\n",
      "  elif pd.api.types.is_categorical(cols):\n"
     ]
    }
   ],
   "source": [
    "x_train_preprocessed = pd.DataFrame(transformer.fit_transform(x_train))\n",
    "x_test_preprocessed = pd.DataFrame(transformer.transform(x_test))"
   ]
  },
  {
   "cell_type": "code",
   "execution_count": 464,
   "metadata": {},
   "outputs": [
    {
     "data": {
      "text/plain": [
       "['x0_RM_type_B', 'x0_RM_type_C', 'x1_Permanent', 'x2_Male', 'x3_Y']"
      ]
     },
     "execution_count": 464,
     "metadata": {},
     "output_type": "execute_result"
    }
   ],
   "source": [
    "onehot_pipeline_features = list(transformer.transformers_[0][1][1].get_feature_names())\n",
    "onehot_pipeline_features"
   ]
  },
  {
   "cell_type": "code",
   "execution_count": 465,
   "metadata": {},
   "outputs": [
    {
     "data": {
      "text/plain": [
       "['0_0', '0_1', '0_2', '0_3', '1_0', '1_1', '1_2', '1_3', '2_0', '2_1', '2_2']"
      ]
     },
     "execution_count": 465,
     "metadata": {},
     "output_type": "execute_result"
    }
   ],
   "source": [
    "constant_binary_pipeline_features = transformer.transformers_[1][1][1].get_feature_names()\n",
    "constant_binary_pipeline_features"
   ]
  },
  {
   "cell_type": "code",
   "execution_count": 466,
   "metadata": {},
   "outputs": [
    {
     "data": {
      "text/plain": [
       "['Education_level', 'job_level', 'person_level']"
      ]
     },
     "execution_count": 466,
     "metadata": {},
     "output_type": "execute_result"
    }
   ],
   "source": [
    "ordinal_pipeline_features = transformer.transformers_[2][1].get_feature_names()\n",
    "ordinal_pipeline_features"
   ]
  },
  {
   "cell_type": "code",
   "execution_count": 467,
   "metadata": {},
   "outputs": [],
   "source": [
    "numericfeatures = list(df.drop(columns='Best Performance').select_dtypes([np.number]).columns)\n",
    "otherfeatures = [i for i in numericfeatures if i not in robust_features and i not in iterative_features]"
   ]
  },
  {
   "cell_type": "code",
   "execution_count": 468,
   "metadata": {},
   "outputs": [],
   "source": [
    "features = onehot_pipeline_features \\\n",
    "    + constant_binary_pipeline_features \\\n",
    "    + ordinal_pipeline_features \\\n",
    "    + robust_features \\\n",
    "    + iterative_features \\\n",
    "    + otherfeatures"
   ]
  },
  {
   "cell_type": "code",
   "execution_count": 469,
   "metadata": {},
   "outputs": [],
   "source": [
    "x_train_preprocessed.columns = features\n",
    "x_test_preprocessed.columns = features"
   ]
  },
  {
   "cell_type": "markdown",
   "metadata": {},
   "source": [
    "# Feature Selection"
   ]
  },
  {
   "cell_type": "code",
   "execution_count": 470,
   "metadata": {},
   "outputs": [],
   "source": [
    "from sklearn.feature_selection import RFE, chi2\n",
    "from sklearn.tree import DecisionTreeClassifier, plot_tree\n",
    "from sklearn.metrics import accuracy_score"
   ]
  },
  {
   "cell_type": "code",
   "execution_count": 471,
   "metadata": {},
   "outputs": [],
   "source": [
    "model = DecisionTreeClassifier(max_depth = 10, criterion='entropy')"
   ]
  },
  {
   "cell_type": "code",
   "execution_count": 472,
   "metadata": {},
   "outputs": [],
   "source": [
    "rfe = RFE(model)"
   ]
  },
  {
   "cell_type": "code",
   "execution_count": 473,
   "metadata": {},
   "outputs": [
    {
     "data": {
      "text/plain": [
       "RFE(estimator=DecisionTreeClassifier(criterion='entropy', max_depth=10))"
      ]
     },
     "execution_count": 473,
     "metadata": {},
     "output_type": "execute_result"
    }
   ],
   "source": [
    "rfe.fit(x_train_preprocessed, y_train)"
   ]
  },
  {
   "cell_type": "code",
   "execution_count": 474,
   "metadata": {},
   "outputs": [
    {
     "data": {
      "text/html": [
       "<div>\n",
       "<style scoped>\n",
       "    .dataframe tbody tr th:only-of-type {\n",
       "        vertical-align: middle;\n",
       "    }\n",
       "\n",
       "    .dataframe tbody tr th {\n",
       "        vertical-align: top;\n",
       "    }\n",
       "\n",
       "    .dataframe thead th {\n",
       "        text-align: right;\n",
       "    }\n",
       "</style>\n",
       "<table border=\"1\" class=\"dataframe\">\n",
       "  <thead>\n",
       "    <tr style=\"text-align: right;\">\n",
       "      <th></th>\n",
       "      <th>select</th>\n",
       "    </tr>\n",
       "  </thead>\n",
       "  <tbody>\n",
       "    <tr>\n",
       "      <th>x1_Permanent</th>\n",
       "      <td>True</td>\n",
       "    </tr>\n",
       "    <tr>\n",
       "      <th>Education_level</th>\n",
       "      <td>True</td>\n",
       "    </tr>\n",
       "    <tr>\n",
       "      <th>age</th>\n",
       "      <td>True</td>\n",
       "    </tr>\n",
       "    <tr>\n",
       "      <th>year_graduated</th>\n",
       "      <td>True</td>\n",
       "    </tr>\n",
       "    <tr>\n",
       "      <th>GPA</th>\n",
       "      <td>True</td>\n",
       "    </tr>\n",
       "    <tr>\n",
       "      <th>Avg_achievement_%</th>\n",
       "      <td>True</td>\n",
       "    </tr>\n",
       "    <tr>\n",
       "      <th>Last_achievement_%</th>\n",
       "      <td>True</td>\n",
       "    </tr>\n",
       "    <tr>\n",
       "      <th>Achievement_above_100%_during3quartal</th>\n",
       "      <td>True</td>\n",
       "    </tr>\n",
       "    <tr>\n",
       "      <th>job_duration_in_current_job_level</th>\n",
       "      <td>True</td>\n",
       "    </tr>\n",
       "    <tr>\n",
       "      <th>job_duration_in_current_person_level</th>\n",
       "      <td>True</td>\n",
       "    </tr>\n",
       "    <tr>\n",
       "      <th>job_duration_in_current_branch</th>\n",
       "      <td>True</td>\n",
       "    </tr>\n",
       "    <tr>\n",
       "      <th>number_of_dependences</th>\n",
       "      <td>True</td>\n",
       "    </tr>\n",
       "    <tr>\n",
       "      <th>number_of_dependences (female)</th>\n",
       "      <td>True</td>\n",
       "    </tr>\n",
       "    <tr>\n",
       "      <th>job_duration_from_training</th>\n",
       "      <td>True</td>\n",
       "    </tr>\n",
       "    <tr>\n",
       "      <th>branch_rotation</th>\n",
       "      <td>True</td>\n",
       "    </tr>\n",
       "    <tr>\n",
       "      <th>job_rotation</th>\n",
       "      <td>True</td>\n",
       "    </tr>\n",
       "    <tr>\n",
       "      <th>assign_of_otherposition</th>\n",
       "      <td>True</td>\n",
       "    </tr>\n",
       "    <tr>\n",
       "      <th>annual leave</th>\n",
       "      <td>True</td>\n",
       "    </tr>\n",
       "    <tr>\n",
       "      <th>sick_leaves</th>\n",
       "      <td>True</td>\n",
       "    </tr>\n",
       "  </tbody>\n",
       "</table>\n",
       "</div>"
      ],
      "text/plain": [
       "                                       select\n",
       "x1_Permanent                             True\n",
       "Education_level                          True\n",
       "age                                      True\n",
       "year_graduated                           True\n",
       "GPA                                      True\n",
       "Avg_achievement_%                        True\n",
       "Last_achievement_%                       True\n",
       "Achievement_above_100%_during3quartal    True\n",
       "job_duration_in_current_job_level        True\n",
       "job_duration_in_current_person_level     True\n",
       "job_duration_in_current_branch           True\n",
       "number_of_dependences                    True\n",
       "number_of_dependences (female)           True\n",
       "job_duration_from_training               True\n",
       "branch_rotation                          True\n",
       "job_rotation                             True\n",
       "assign_of_otherposition                  True\n",
       "annual leave                             True\n",
       "sick_leaves                              True"
      ]
     },
     "execution_count": 474,
     "metadata": {},
     "output_type": "execute_result"
    }
   ],
   "source": [
    "feature_select = pd.DataFrame({'select': rfe.support_}, index=features)\n",
    "feature_select[feature_select['select'] == True]"
   ]
  },
  {
   "cell_type": "code",
   "execution_count": 475,
   "metadata": {},
   "outputs": [],
   "source": [
    "x_train_select = pd.DataFrame(rfe.transform(x_train_preprocessed), columns=feature_select[feature_select['select'] == True])\n",
    "x_test_select = pd.DataFrame(rfe.transform(x_test_preprocessed), columns=feature_select[feature_select['select'] == True])"
   ]
  },
  {
   "cell_type": "code",
   "execution_count": 477,
   "metadata": {},
   "outputs": [
    {
     "name": "stdout",
     "output_type": "stream",
     "text": [
      "score:  0.8748863980611936\n"
     ]
    }
   ],
   "source": [
    "model.fit(x_train_select, y_train)\n",
    "y_pred = model.predict(x_test_select)\n",
    "print('score: ', accuracy_score(y_test, y_pred))"
   ]
  },
  {
   "cell_type": "code",
   "execution_count": null,
   "metadata": {},
   "outputs": [],
   "source": []
  }
 ],
 "metadata": {
  "kernelspec": {
   "display_name": "Python 3",
   "language": "python",
   "name": "python3"
  },
  "language_info": {
   "codemirror_mode": {
    "name": "ipython",
    "version": 3
   },
   "file_extension": ".py",
   "mimetype": "text/x-python",
   "name": "python",
   "nbconvert_exporter": "python",
   "pygments_lexer": "ipython3",
   "version": "3.8.5"
  },
  "toc": {
   "base_numbering": 1,
   "nav_menu": {},
   "number_sections": true,
   "sideBar": true,
   "skip_h1_title": false,
   "title_cell": "Table of Contents",
   "title_sidebar": "Contents",
   "toc_cell": false,
   "toc_position": {},
   "toc_section_display": true,
   "toc_window_display": false
  }
 },
 "nbformat": 4,
 "nbformat_minor": 4
}
